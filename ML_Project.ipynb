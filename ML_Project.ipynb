{
  "nbformat": 4,
  "nbformat_minor": 0,
  "metadata": {
    "colab": {
      "name": "Copy of ML Project.ipynb",
      "provenance": [],
      "collapsed_sections": [],
      "authorship_tag": "ABX9TyPDoUu1R56VPkdDO9IwK3Zq",
      "include_colab_link": true
    },
    "kernelspec": {
      "name": "python3",
      "display_name": "Python 3"
    }
  },
  "cells": [
    {
      "cell_type": "markdown",
      "metadata": {
        "id": "view-in-github",
        "colab_type": "text"
      },
      "source": [
        "<a href=\"https://colab.research.google.com/github/dayothompson/ML_Project/blob/working_branch/ML_Project.ipynb\" target=\"_parent\"><img src=\"https://colab.research.google.com/assets/colab-badge.svg\" alt=\"Open In Colab\"/></a>"
      ]
    },
    {
      "cell_type": "code",
      "metadata": {
        "id": "DSrM0YAdvppr"
      },
      "source": [
        "import pandas as pd\n",
        "import numpy as np\n",
        "import matplotlib.pyplot as plt\n",
        "import seaborn as sns\n",
        "import math\n",
        "%matplotlib inline\n",
        "import warnings\n",
        "warnings.filterwarnings(\"ignore\")"
      ],
      "execution_count": 1,
      "outputs": []
    },
    {
      "cell_type": "code",
      "metadata": {
        "id": "1GEMk2sdKskw"
      },
      "source": [
        "# read the csv file \n",
        "calgary_listing = pd.read_csv('https://dayotestdb.s3.us-east-2.amazonaws.com/calgary_listings.csv')\n",
        "score_df = pd.read_csv('https://dayotestdb.s3.us-east-2.amazonaws.com/score_df.csv')"
      ],
      "execution_count": 2,
      "outputs": []
    },
    {
      "cell_type": "code",
      "metadata": {
        "id": "K-3fzP5lK-qz",
        "outputId": "2715e323-683e-489f-b740-74aa6cb5e920",
        "colab": {
          "base_uri": "https://localhost:8080/",
          "height": 360
        }
      },
      "source": [
        "calgary_listing.head()"
      ],
      "execution_count": 3,
      "outputs": [
        {
          "output_type": "execute_result",
          "data": {
            "text/html": [
              "<div>\n",
              "<style scoped>\n",
              "    .dataframe tbody tr th:only-of-type {\n",
              "        vertical-align: middle;\n",
              "    }\n",
              "\n",
              "    .dataframe tbody tr th {\n",
              "        vertical-align: top;\n",
              "    }\n",
              "\n",
              "    .dataframe thead th {\n",
              "        text-align: right;\n",
              "    }\n",
              "</style>\n",
              "<table border=\"1\" class=\"dataframe\">\n",
              "  <thead>\n",
              "    <tr style=\"text-align: right;\">\n",
              "      <th></th>\n",
              "      <th>price</th>\n",
              "      <th>postal_code</th>\n",
              "      <th>address</th>\n",
              "      <th>mls</th>\n",
              "      <th>bed</th>\n",
              "      <th>full_bath</th>\n",
              "      <th>half_bath</th>\n",
              "      <th>property_area</th>\n",
              "      <th>property_type</th>\n",
              "      <th>latitude</th>\n",
              "      <th>longitude</th>\n",
              "      <th>year_built</th>\n",
              "      <th>years_old</th>\n",
              "      <th>distance_downtown</th>\n",
              "      <th>monthly_payments</th>\n",
              "      <th>lot_size</th>\n",
              "      <th>basement</th>\n",
              "      <th>garage</th>\n",
              "    </tr>\n",
              "  </thead>\n",
              "  <tbody>\n",
              "    <tr>\n",
              "      <th>0</th>\n",
              "      <td>219900</td>\n",
              "      <td>T2Y 3G2</td>\n",
              "      <td>, 22 Shawbrooke Court SW</td>\n",
              "      <td>A1045249</td>\n",
              "      <td>2.0</td>\n",
              "      <td>2.0</td>\n",
              "      <td>1.0</td>\n",
              "      <td>1109.0</td>\n",
              "      <td>townhouse</td>\n",
              "      <td>50.906640</td>\n",
              "      <td>-114.092</td>\n",
              "      <td>1998.0</td>\n",
              "      <td>22.0</td>\n",
              "      <td>15.44</td>\n",
              "      <td>950.87</td>\n",
              "      <td>na</td>\n",
              "      <td>1.0</td>\n",
              "      <td>0.0</td>\n",
              "    </tr>\n",
              "    <tr>\n",
              "      <th>1</th>\n",
              "      <td>539000</td>\n",
              "      <td>T2E 2Z9</td>\n",
              "      <td>1 - 1510 CENTRE A ST NE</td>\n",
              "      <td>C4306021</td>\n",
              "      <td>2.0</td>\n",
              "      <td>2.0</td>\n",
              "      <td>1.0</td>\n",
              "      <td>1448.0</td>\n",
              "      <td>townhouse</td>\n",
              "      <td>51.065644</td>\n",
              "      <td>-114.061</td>\n",
              "      <td>NaN</td>\n",
              "      <td>NaN</td>\n",
              "      <td>2.47</td>\n",
              "      <td>2330.70</td>\n",
              "      <td>na</td>\n",
              "      <td>0.0</td>\n",
              "      <td>1.0</td>\n",
              "    </tr>\n",
              "    <tr>\n",
              "      <th>2</th>\n",
              "      <td>549000</td>\n",
              "      <td>T2N 3R3</td>\n",
              "      <td>1 - 1718 KENSINGTON RD NW</td>\n",
              "      <td>A1029496</td>\n",
              "      <td>3.0</td>\n",
              "      <td>3.0</td>\n",
              "      <td>1.0</td>\n",
              "      <td>1211.0</td>\n",
              "      <td>townhouse</td>\n",
              "      <td>51.052786</td>\n",
              "      <td>-114.098</td>\n",
              "      <td>2018.0</td>\n",
              "      <td>2.0</td>\n",
              "      <td>1.89</td>\n",
              "      <td>2373.94</td>\n",
              "      <td>na</td>\n",
              "      <td>0.0</td>\n",
              "      <td>1.0</td>\n",
              "    </tr>\n",
              "    <tr>\n",
              "      <th>3</th>\n",
              "      <td>394000</td>\n",
              "      <td>T3E 1V3</td>\n",
              "      <td>1 - 1938 24A ST SW</td>\n",
              "      <td>A1034579</td>\n",
              "      <td>2.0</td>\n",
              "      <td>2.0</td>\n",
              "      <td>1.0</td>\n",
              "      <td>1046.0</td>\n",
              "      <td>townhouse</td>\n",
              "      <td>51.036421</td>\n",
              "      <td>-114.118</td>\n",
              "      <td>2007.0</td>\n",
              "      <td>13.0</td>\n",
              "      <td>3.22</td>\n",
              "      <td>1703.70</td>\n",
              "      <td>na</td>\n",
              "      <td>0.0</td>\n",
              "      <td>1.0</td>\n",
              "    </tr>\n",
              "    <tr>\n",
              "      <th>4</th>\n",
              "      <td>285000</td>\n",
              "      <td>T2S 0L1</td>\n",
              "      <td>1 - 210 25 AVE SW</td>\n",
              "      <td>A1017109</td>\n",
              "      <td>2.0</td>\n",
              "      <td>1.0</td>\n",
              "      <td>NaN</td>\n",
              "      <td>849.0</td>\n",
              "      <td>condo</td>\n",
              "      <td>51.030731</td>\n",
              "      <td>-114.067</td>\n",
              "      <td>2006.0</td>\n",
              "      <td>14.0</td>\n",
              "      <td>1.65</td>\n",
              "      <td>1232.38</td>\n",
              "      <td>NaN</td>\n",
              "      <td>0.0</td>\n",
              "      <td>1.0</td>\n",
              "    </tr>\n",
              "  </tbody>\n",
              "</table>\n",
              "</div>"
            ],
            "text/plain": [
              "    price postal_code                    address  ... lot_size  basement  garage\n",
              "0  219900     T2Y 3G2   , 22 Shawbrooke Court SW  ...       na       1.0     0.0\n",
              "1  539000     T2E 2Z9    1 - 1510 CENTRE A ST NE  ...       na       0.0     1.0\n",
              "2  549000     T2N 3R3  1 - 1718 KENSINGTON RD NW  ...       na       0.0     1.0\n",
              "3  394000     T3E 1V3         1 - 1938 24A ST SW  ...       na       0.0     1.0\n",
              "4  285000     T2S 0L1          1 - 210 25 AVE SW  ...      NaN       0.0     1.0\n",
              "\n",
              "[5 rows x 18 columns]"
            ]
          },
          "metadata": {
            "tags": []
          },
          "execution_count": 3
        }
      ]
    },
    {
      "cell_type": "code",
      "metadata": {
        "id": "8-FH7xUlLCMC",
        "outputId": "a06c4b95-e1e3-4c8b-d1e6-e4fce3ed5929",
        "colab": {
          "base_uri": "https://localhost:8080/",
          "height": 204
        }
      },
      "source": [
        "score_df.head()"
      ],
      "execution_count": 4,
      "outputs": [
        {
          "output_type": "execute_result",
          "data": {
            "text/html": [
              "<div>\n",
              "<style scoped>\n",
              "    .dataframe tbody tr th:only-of-type {\n",
              "        vertical-align: middle;\n",
              "    }\n",
              "\n",
              "    .dataframe tbody tr th {\n",
              "        vertical-align: top;\n",
              "    }\n",
              "\n",
              "    .dataframe thead th {\n",
              "        text-align: right;\n",
              "    }\n",
              "</style>\n",
              "<table border=\"1\" class=\"dataframe\">\n",
              "  <thead>\n",
              "    <tr style=\"text-align: right;\">\n",
              "      <th></th>\n",
              "      <th>postal_code</th>\n",
              "      <th>walk_score</th>\n",
              "      <th>bike_score</th>\n",
              "      <th>transit_score</th>\n",
              "    </tr>\n",
              "  </thead>\n",
              "  <tbody>\n",
              "    <tr>\n",
              "      <th>0</th>\n",
              "      <td>T2Y 3G2</td>\n",
              "      <td>17</td>\n",
              "      <td>62</td>\n",
              "      <td>39</td>\n",
              "    </tr>\n",
              "    <tr>\n",
              "      <th>1</th>\n",
              "      <td>T2E 2Z9</td>\n",
              "      <td>82</td>\n",
              "      <td>95</td>\n",
              "      <td>58</td>\n",
              "    </tr>\n",
              "    <tr>\n",
              "      <th>2</th>\n",
              "      <td>T2N 3R3</td>\n",
              "      <td>74</td>\n",
              "      <td>98</td>\n",
              "      <td>61</td>\n",
              "    </tr>\n",
              "    <tr>\n",
              "      <th>3</th>\n",
              "      <td>T3E 1V3</td>\n",
              "      <td>55</td>\n",
              "      <td>90</td>\n",
              "      <td>60</td>\n",
              "    </tr>\n",
              "    <tr>\n",
              "      <th>4</th>\n",
              "      <td>T2S 0L1</td>\n",
              "      <td>72</td>\n",
              "      <td>97</td>\n",
              "      <td>58</td>\n",
              "    </tr>\n",
              "  </tbody>\n",
              "</table>\n",
              "</div>"
            ],
            "text/plain": [
              "  postal_code  walk_score  bike_score  transit_score\n",
              "0     T2Y 3G2          17          62             39\n",
              "1     T2E 2Z9          82          95             58\n",
              "2     T2N 3R3          74          98             61\n",
              "3     T3E 1V3          55          90             60\n",
              "4     T2S 0L1          72          97             58"
            ]
          },
          "metadata": {
            "tags": []
          },
          "execution_count": 4
        }
      ]
    },
    {
      "cell_type": "code",
      "metadata": {
        "id": "lqc8RaeUv3G0",
        "outputId": "a8215310-92cd-48a0-f338-f26bb52598a7",
        "colab": {
          "base_uri": "https://localhost:8080/",
          "height": 360
        }
      },
      "source": [
        "house_info = pd.merge(calgary_listing, score_df, on='postal_code')\n",
        "house_info.head()"
      ],
      "execution_count": 18,
      "outputs": [
        {
          "output_type": "execute_result",
          "data": {
            "text/html": [
              "<div>\n",
              "<style scoped>\n",
              "    .dataframe tbody tr th:only-of-type {\n",
              "        vertical-align: middle;\n",
              "    }\n",
              "\n",
              "    .dataframe tbody tr th {\n",
              "        vertical-align: top;\n",
              "    }\n",
              "\n",
              "    .dataframe thead th {\n",
              "        text-align: right;\n",
              "    }\n",
              "</style>\n",
              "<table border=\"1\" class=\"dataframe\">\n",
              "  <thead>\n",
              "    <tr style=\"text-align: right;\">\n",
              "      <th></th>\n",
              "      <th>price</th>\n",
              "      <th>postal_code</th>\n",
              "      <th>address</th>\n",
              "      <th>mls</th>\n",
              "      <th>bed</th>\n",
              "      <th>full_bath</th>\n",
              "      <th>half_bath</th>\n",
              "      <th>property_area</th>\n",
              "      <th>property_type</th>\n",
              "      <th>latitude</th>\n",
              "      <th>longitude</th>\n",
              "      <th>year_built</th>\n",
              "      <th>years_old</th>\n",
              "      <th>distance_downtown</th>\n",
              "      <th>monthly_payments</th>\n",
              "      <th>lot_size</th>\n",
              "      <th>basement</th>\n",
              "      <th>garage</th>\n",
              "      <th>walk_score</th>\n",
              "      <th>bike_score</th>\n",
              "      <th>transit_score</th>\n",
              "    </tr>\n",
              "  </thead>\n",
              "  <tbody>\n",
              "    <tr>\n",
              "      <th>0</th>\n",
              "      <td>219900</td>\n",
              "      <td>T2Y 3G2</td>\n",
              "      <td>, 22 Shawbrooke Court SW</td>\n",
              "      <td>A1045249</td>\n",
              "      <td>2.0</td>\n",
              "      <td>2.0</td>\n",
              "      <td>1.0</td>\n",
              "      <td>1109.0</td>\n",
              "      <td>townhouse</td>\n",
              "      <td>50.906640</td>\n",
              "      <td>-114.092</td>\n",
              "      <td>1998.0</td>\n",
              "      <td>22.0</td>\n",
              "      <td>15.44</td>\n",
              "      <td>950.87</td>\n",
              "      <td>na</td>\n",
              "      <td>1.0</td>\n",
              "      <td>0.0</td>\n",
              "      <td>17</td>\n",
              "      <td>62</td>\n",
              "      <td>39</td>\n",
              "    </tr>\n",
              "    <tr>\n",
              "      <th>1</th>\n",
              "      <td>539000</td>\n",
              "      <td>T2E 2Z9</td>\n",
              "      <td>1 - 1510 CENTRE A ST NE</td>\n",
              "      <td>C4306021</td>\n",
              "      <td>2.0</td>\n",
              "      <td>2.0</td>\n",
              "      <td>1.0</td>\n",
              "      <td>1448.0</td>\n",
              "      <td>townhouse</td>\n",
              "      <td>51.065644</td>\n",
              "      <td>-114.061</td>\n",
              "      <td>NaN</td>\n",
              "      <td>NaN</td>\n",
              "      <td>2.47</td>\n",
              "      <td>2330.70</td>\n",
              "      <td>na</td>\n",
              "      <td>0.0</td>\n",
              "      <td>1.0</td>\n",
              "      <td>82</td>\n",
              "      <td>95</td>\n",
              "      <td>58</td>\n",
              "    </tr>\n",
              "    <tr>\n",
              "      <th>2</th>\n",
              "      <td>549000</td>\n",
              "      <td>T2N 3R3</td>\n",
              "      <td>1 - 1718 KENSINGTON RD NW</td>\n",
              "      <td>A1029496</td>\n",
              "      <td>3.0</td>\n",
              "      <td>3.0</td>\n",
              "      <td>1.0</td>\n",
              "      <td>1211.0</td>\n",
              "      <td>townhouse</td>\n",
              "      <td>51.052786</td>\n",
              "      <td>-114.098</td>\n",
              "      <td>2018.0</td>\n",
              "      <td>2.0</td>\n",
              "      <td>1.89</td>\n",
              "      <td>2373.94</td>\n",
              "      <td>na</td>\n",
              "      <td>0.0</td>\n",
              "      <td>1.0</td>\n",
              "      <td>74</td>\n",
              "      <td>98</td>\n",
              "      <td>61</td>\n",
              "    </tr>\n",
              "    <tr>\n",
              "      <th>3</th>\n",
              "      <td>394000</td>\n",
              "      <td>T3E 1V3</td>\n",
              "      <td>1 - 1938 24A ST SW</td>\n",
              "      <td>A1034579</td>\n",
              "      <td>2.0</td>\n",
              "      <td>2.0</td>\n",
              "      <td>1.0</td>\n",
              "      <td>1046.0</td>\n",
              "      <td>townhouse</td>\n",
              "      <td>51.036421</td>\n",
              "      <td>-114.118</td>\n",
              "      <td>2007.0</td>\n",
              "      <td>13.0</td>\n",
              "      <td>3.22</td>\n",
              "      <td>1703.70</td>\n",
              "      <td>na</td>\n",
              "      <td>0.0</td>\n",
              "      <td>1.0</td>\n",
              "      <td>55</td>\n",
              "      <td>90</td>\n",
              "      <td>60</td>\n",
              "    </tr>\n",
              "    <tr>\n",
              "      <th>4</th>\n",
              "      <td>285000</td>\n",
              "      <td>T2S 0L1</td>\n",
              "      <td>1 - 210 25 AVE SW</td>\n",
              "      <td>A1017109</td>\n",
              "      <td>2.0</td>\n",
              "      <td>1.0</td>\n",
              "      <td>NaN</td>\n",
              "      <td>849.0</td>\n",
              "      <td>condo</td>\n",
              "      <td>51.030731</td>\n",
              "      <td>-114.067</td>\n",
              "      <td>2006.0</td>\n",
              "      <td>14.0</td>\n",
              "      <td>1.65</td>\n",
              "      <td>1232.38</td>\n",
              "      <td>NaN</td>\n",
              "      <td>0.0</td>\n",
              "      <td>1.0</td>\n",
              "      <td>72</td>\n",
              "      <td>97</td>\n",
              "      <td>58</td>\n",
              "    </tr>\n",
              "  </tbody>\n",
              "</table>\n",
              "</div>"
            ],
            "text/plain": [
              "    price postal_code  ... bike_score transit_score\n",
              "0  219900     T2Y 3G2  ...         62            39\n",
              "1  539000     T2E 2Z9  ...         95            58\n",
              "2  549000     T2N 3R3  ...         98            61\n",
              "3  394000     T3E 1V3  ...         90            60\n",
              "4  285000     T2S 0L1  ...         97            58\n",
              "\n",
              "[5 rows x 21 columns]"
            ]
          },
          "metadata": {
            "tags": []
          },
          "execution_count": 18
        }
      ]
    },
    {
      "cell_type": "markdown",
      "metadata": {
        "id": "CbH0fYscxE-4"
      },
      "source": [
        "## **Analyzing Data**"
      ]
    },
    {
      "cell_type": "code",
      "metadata": {
        "id": "JCW2P4aOcT0t",
        "outputId": "7d2cd0e4-bd37-4fad-aa31-aec613f6bff5",
        "colab": {
          "base_uri": "https://localhost:8080/"
        }
      },
      "source": [
        "#house_info = house_info[house_info[\"price\"] < 1500000]\n",
        "len(house_info)"
      ],
      "execution_count": 19,
      "outputs": [
        {
          "output_type": "execute_result",
          "data": {
            "text/plain": [
              "1982"
            ]
          },
          "metadata": {
            "tags": []
          },
          "execution_count": 19
        }
      ]
    },
    {
      "cell_type": "code",
      "metadata": {
        "id": "zUl3yanQxdnQ",
        "outputId": "c8b43d14-4de8-45e7-caec-02ff9cb12a97",
        "colab": {
          "base_uri": "https://localhost:8080/",
          "height": 405
        }
      },
      "source": [
        "sns.set_style('white')\n",
        "plt.figure(figsize=(10, 6))\n",
        "sns.countplot(x=\"bed\", data=house_info)"
      ],
      "execution_count": 20,
      "outputs": [
        {
          "output_type": "execute_result",
          "data": {
            "text/plain": [
              "<matplotlib.axes._subplots.AxesSubplot at 0x7fb74de4c898>"
            ]
          },
          "metadata": {
            "tags": []
          },
          "execution_count": 20
        },
        {
          "output_type": "display_data",
          "data": {
            "image/png": "[encoded data removed]",
            "text/plain": [
              "<Figure size 720x432 with 1 Axes>"
            ]
          },
          "metadata": {
            "tags": []
          }
        }
      ]
    },
    {
      "cell_type": "code",
      "metadata": {
        "id": "RFSaZKkvxnLA",
        "outputId": "7b6b632d-6872-4588-a9dc-e7a2bb4a6ed2",
        "colab": {
          "base_uri": "https://localhost:8080/",
          "height": 356
        }
      },
      "source": [
        "plt.figure(figsize=(20, 6))\n",
        "sns.histplot(data=house_info, x=\"price\", hue=\"property_type\")"
      ],
      "execution_count": 21,
      "outputs": [
        {
          "output_type": "execute_result",
          "data": {
            "text/plain": [
              "<matplotlib.axes._subplots.AxesSubplot at 0x7fb74b2db518>"
            ]
          },
          "metadata": {
            "tags": []
          },
          "execution_count": 21
        },
        {
          "output_type": "display_data",
          "data": {
            "image/png": "[encoded data removed]",
            "text/plain": [
              "<Figure size 1440x432 with 1 Axes>"
            ]
          },
          "metadata": {
            "tags": []
          }
        }
      ]
    },
    {
      "cell_type": "markdown",
      "metadata": {
        "id": "YcCNONf0xxo7"
      },
      "source": [
        "# **Data Wrangling**"
      ]
    },
    {
      "cell_type": "code",
      "metadata": {
        "id": "UCxeX9hYx0wa",
        "outputId": "380f09ff-d9c5-42b9-d28f-bae665e03ff9",
        "colab": {
          "base_uri": "https://localhost:8080/"
        }
      },
      "source": [
        "house_info.isnull().sum()"
      ],
      "execution_count": 22,
      "outputs": [
        {
          "output_type": "execute_result",
          "data": {
            "text/plain": [
              "price                   0\n",
              "postal_code             0\n",
              "address                 0\n",
              "mls                     0\n",
              "bed                    50\n",
              "full_bath              50\n",
              "half_bath            1028\n",
              "property_area          36\n",
              "property_type          58\n",
              "latitude               34\n",
              "longitude              34\n",
              "year_built            357\n",
              "years_old             357\n",
              "distance_downtown      34\n",
              "monthly_payments       34\n",
              "lot_size              561\n",
              "basement                0\n",
              "garage                  0\n",
              "walk_score              0\n",
              "bike_score              0\n",
              "transit_score           0\n",
              "dtype: int64"
            ]
          },
          "metadata": {
            "tags": []
          },
          "execution_count": 22
        }
      ]
    },
    {
      "cell_type": "code",
      "metadata": {
        "id": "o6PE2vP3zZa5",
        "outputId": "09832e62-16f2-45c7-fe58-9d2472a41090",
        "colab": {
          "base_uri": "https://localhost:8080/",
          "height": 701
        }
      },
      "source": [
        "sns.set_style('white')\n",
        "plt.figure(figsize=(15, 10))\n",
        "sns.heatmap(data=house_info.isnull(), yticklabels=False)"
      ],
      "execution_count": 24,
      "outputs": [
        {
          "output_type": "execute_result",
          "data": {
            "text/plain": [
              "<matplotlib.axes._subplots.AxesSubplot at 0x7fb74b1320b8>"
            ]
          },
          "metadata": {
            "tags": []
          },
          "execution_count": 24
        },
        {
          "output_type": "display_data",
          "data": {
            "image/png": "[encoded data removed]",
            "text/plain": [
              "<Figure size 1080x720 with 2 Axes>"
            ]
          },
          "metadata": {
            "tags": []
          }
        }
      ]
    },
    {
      "cell_type": "code",
      "metadata": {
        "id": "BaIIR4YnzcWQ"
      },
      "source": [
        "# Replace nan values with average years_old and 0\n",
        "\n",
        "# house_info['years_old']=house_info['years_old'].replace(np.nan,house_info['years_old'].mean())\n",
        "house_info['half_bath']=house_info['half_bath'].replace(np.nan,0)\n",
        "house_info['lot_size']=house_info['lot_size'].replace(\"na\",0)\n",
        "house_info['lot_size']=house_info['lot_size'].replace(\"Unknown\",0)\n",
        "# house_info['walk_score']=house_info['walk_score'].replace(np.nan,0)\n",
        "# house_info['bike_score']=house_info['bike_score'].replace(np.nan,0)\n",
        "# house_info['transit_score']=house_info['transit_score'].replace(np.nan,0)\n",
        "# house_info['lot_size']=house_info['lot_size'].replace(np.nan,0)\n",
        "# house_info = house_info.dropna(subset=['bed', 'full_bath', 'property_area', 'property_type', 'years_old'])\n",
        "# house_info = house_info.dropna()"
      ],
      "execution_count": 25,
      "outputs": []
    },
    {
      "cell_type": "code",
      "metadata": {
        "id": "-zdYVC-sQe2q"
      },
      "source": [
        "house_info.lot_size.fillna(house_info.property_area, inplace=True)\n",
        "# data_raw['lot_size'] = pd.to_numeric(data_raw['lot_size'])\n",
        "# data_raw.head()"
      ],
      "execution_count": 26,
      "outputs": []
    },
    {
      "cell_type": "code",
      "metadata": {
        "id": "E2TX88ojUOP-"
      },
      "source": [
        "house_info = house_info.dropna()"
      ],
      "execution_count": 27,
      "outputs": []
    },
    {
      "cell_type": "code",
      "metadata": {
        "id": "6cBXxEE6zzCr",
        "outputId": "82063abb-493a-473d-c894-10cb3525d4b5",
        "colab": {
          "base_uri": "https://localhost:8080/"
        }
      },
      "source": [
        "house_info.isnull().sum()"
      ],
      "execution_count": 28,
      "outputs": [
        {
          "output_type": "execute_result",
          "data": {
            "text/plain": [
              "price                0\n",
              "postal_code          0\n",
              "address              0\n",
              "mls                  0\n",
              "bed                  0\n",
              "full_bath            0\n",
              "half_bath            0\n",
              "property_area        0\n",
              "property_type        0\n",
              "latitude             0\n",
              "longitude            0\n",
              "year_built           0\n",
              "years_old            0\n",
              "distance_downtown    0\n",
              "monthly_payments     0\n",
              "lot_size             0\n",
              "basement             0\n",
              "garage               0\n",
              "walk_score           0\n",
              "bike_score           0\n",
              "transit_score        0\n",
              "dtype: int64"
            ]
          },
          "metadata": {
            "tags": []
          },
          "execution_count": 28
        }
      ]
    },
    {
      "cell_type": "code",
      "metadata": {
        "id": "aUjoIhlPz2Gm",
        "outputId": "abb149eb-fb9b-4f8e-b9f3-d62fea7aabe1",
        "colab": {
          "base_uri": "https://localhost:8080/",
          "height": 484
        }
      },
      "source": [
        "sns.set_style('white')\n",
        "plt.figure(figsize=(15, 6))\n",
        "sns.heatmap(data=house_info.isnull(), yticklabels=False)"
      ],
      "execution_count": 29,
      "outputs": [
        {
          "output_type": "execute_result",
          "data": {
            "text/plain": [
              "<matplotlib.axes._subplots.AxesSubplot at 0x7fb74b006668>"
            ]
          },
          "metadata": {
            "tags": []
          },
          "execution_count": 29
        },
        {
          "output_type": "display_data",
          "data": {
            "image/png": "[encoded data removed]",
            "text/plain": [
              "<Figure size 1080x432 with 2 Axes>"
            ]
          },
          "metadata": {
            "tags": []
          }
        }
      ]
    },
    {
      "cell_type": "code",
      "metadata": {
        "id": "8nIlm88oz-LL",
        "outputId": "b9d49a04-23e9-4fe6-a1c6-bbdb35c57aec",
        "colab": {
          "base_uri": "https://localhost:8080/",
          "height": 343
        }
      },
      "source": [
        "house_info.head()"
      ],
      "execution_count": 30,
      "outputs": [
        {
          "output_type": "execute_result",
          "data": {
            "text/html": [
              "<div>\n",
              "<style scoped>\n",
              "    .dataframe tbody tr th:only-of-type {\n",
              "        vertical-align: middle;\n",
              "    }\n",
              "\n",
              "    .dataframe tbody tr th {\n",
              "        vertical-align: top;\n",
              "    }\n",
              "\n",
              "    .dataframe thead th {\n",
              "        text-align: right;\n",
              "    }\n",
              "</style>\n",
              "<table border=\"1\" class=\"dataframe\">\n",
              "  <thead>\n",
              "    <tr style=\"text-align: right;\">\n",
              "      <th></th>\n",
              "      <th>price</th>\n",
              "      <th>postal_code</th>\n",
              "      <th>address</th>\n",
              "      <th>mls</th>\n",
              "      <th>bed</th>\n",
              "      <th>full_bath</th>\n",
              "      <th>half_bath</th>\n",
              "      <th>property_area</th>\n",
              "      <th>property_type</th>\n",
              "      <th>latitude</th>\n",
              "      <th>longitude</th>\n",
              "      <th>year_built</th>\n",
              "      <th>years_old</th>\n",
              "      <th>distance_downtown</th>\n",
              "      <th>monthly_payments</th>\n",
              "      <th>lot_size</th>\n",
              "      <th>basement</th>\n",
              "      <th>garage</th>\n",
              "      <th>walk_score</th>\n",
              "      <th>bike_score</th>\n",
              "      <th>transit_score</th>\n",
              "    </tr>\n",
              "  </thead>\n",
              "  <tbody>\n",
              "    <tr>\n",
              "      <th>0</th>\n",
              "      <td>219900</td>\n",
              "      <td>T2Y 3G2</td>\n",
              "      <td>, 22 Shawbrooke Court SW</td>\n",
              "      <td>A1045249</td>\n",
              "      <td>2.0</td>\n",
              "      <td>2.0</td>\n",
              "      <td>1.0</td>\n",
              "      <td>1109.0</td>\n",
              "      <td>townhouse</td>\n",
              "      <td>50.906640</td>\n",
              "      <td>-114.092</td>\n",
              "      <td>1998.0</td>\n",
              "      <td>22.0</td>\n",
              "      <td>15.44</td>\n",
              "      <td>950.87</td>\n",
              "      <td>0</td>\n",
              "      <td>1.0</td>\n",
              "      <td>0.0</td>\n",
              "      <td>17</td>\n",
              "      <td>62</td>\n",
              "      <td>39</td>\n",
              "    </tr>\n",
              "    <tr>\n",
              "      <th>2</th>\n",
              "      <td>549000</td>\n",
              "      <td>T2N 3R3</td>\n",
              "      <td>1 - 1718 KENSINGTON RD NW</td>\n",
              "      <td>A1029496</td>\n",
              "      <td>3.0</td>\n",
              "      <td>3.0</td>\n",
              "      <td>1.0</td>\n",
              "      <td>1211.0</td>\n",
              "      <td>townhouse</td>\n",
              "      <td>51.052786</td>\n",
              "      <td>-114.098</td>\n",
              "      <td>2018.0</td>\n",
              "      <td>2.0</td>\n",
              "      <td>1.89</td>\n",
              "      <td>2373.94</td>\n",
              "      <td>0</td>\n",
              "      <td>0.0</td>\n",
              "      <td>1.0</td>\n",
              "      <td>74</td>\n",
              "      <td>98</td>\n",
              "      <td>61</td>\n",
              "    </tr>\n",
              "    <tr>\n",
              "      <th>3</th>\n",
              "      <td>394000</td>\n",
              "      <td>T3E 1V3</td>\n",
              "      <td>1 - 1938 24A ST SW</td>\n",
              "      <td>A1034579</td>\n",
              "      <td>2.0</td>\n",
              "      <td>2.0</td>\n",
              "      <td>1.0</td>\n",
              "      <td>1046.0</td>\n",
              "      <td>townhouse</td>\n",
              "      <td>51.036421</td>\n",
              "      <td>-114.118</td>\n",
              "      <td>2007.0</td>\n",
              "      <td>13.0</td>\n",
              "      <td>3.22</td>\n",
              "      <td>1703.70</td>\n",
              "      <td>0</td>\n",
              "      <td>0.0</td>\n",
              "      <td>1.0</td>\n",
              "      <td>55</td>\n",
              "      <td>90</td>\n",
              "      <td>60</td>\n",
              "    </tr>\n",
              "    <tr>\n",
              "      <th>4</th>\n",
              "      <td>285000</td>\n",
              "      <td>T2S 0L1</td>\n",
              "      <td>1 - 210 25 AVE SW</td>\n",
              "      <td>A1017109</td>\n",
              "      <td>2.0</td>\n",
              "      <td>1.0</td>\n",
              "      <td>0.0</td>\n",
              "      <td>849.0</td>\n",
              "      <td>condo</td>\n",
              "      <td>51.030731</td>\n",
              "      <td>-114.067</td>\n",
              "      <td>2006.0</td>\n",
              "      <td>14.0</td>\n",
              "      <td>1.65</td>\n",
              "      <td>1232.38</td>\n",
              "      <td>849</td>\n",
              "      <td>0.0</td>\n",
              "      <td>1.0</td>\n",
              "      <td>72</td>\n",
              "      <td>97</td>\n",
              "      <td>58</td>\n",
              "    </tr>\n",
              "    <tr>\n",
              "      <th>5</th>\n",
              "      <td>439000</td>\n",
              "      <td>T2S 2Z2</td>\n",
              "      <td>1 - 24 34 AVE SW</td>\n",
              "      <td>A1043468</td>\n",
              "      <td>3.0</td>\n",
              "      <td>2.0</td>\n",
              "      <td>1.0</td>\n",
              "      <td>1126.0</td>\n",
              "      <td>townhouse</td>\n",
              "      <td>51.023518</td>\n",
              "      <td>-114.061</td>\n",
              "      <td>1982.0</td>\n",
              "      <td>38.0</td>\n",
              "      <td>2.55</td>\n",
              "      <td>1898.29</td>\n",
              "      <td>0</td>\n",
              "      <td>0.0</td>\n",
              "      <td>0.0</td>\n",
              "      <td>36</td>\n",
              "      <td>70</td>\n",
              "      <td>53</td>\n",
              "    </tr>\n",
              "  </tbody>\n",
              "</table>\n",
              "</div>"
            ],
            "text/plain": [
              "    price postal_code  ... bike_score transit_score\n",
              "0  219900     T2Y 3G2  ...         62            39\n",
              "2  549000     T2N 3R3  ...         98            61\n",
              "3  394000     T3E 1V3  ...         90            60\n",
              "4  285000     T2S 0L1  ...         97            58\n",
              "5  439000     T2S 2Z2  ...         70            53\n",
              "\n",
              "[5 rows x 21 columns]"
            ]
          },
          "metadata": {
            "tags": []
          },
          "execution_count": 30
        }
      ]
    },
    {
      "cell_type": "markdown",
      "metadata": {
        "id": "-tHxFogl0MJh"
      },
      "source": [
        "# **One-hot encoding**"
      ]
    },
    {
      "cell_type": "code",
      "metadata": {
        "id": "dCkRAc1Z0T2a",
        "outputId": "4a3397cb-0d36-414f-cb44-544a1dd6704e",
        "colab": {
          "base_uri": "https://localhost:8080/",
          "height": 204
        }
      },
      "source": [
        "prop_area = pd.get_dummies(house_info[\"property_type\"])\n",
        "prop_area.head()"
      ],
      "execution_count": 31,
      "outputs": [
        {
          "output_type": "execute_result",
          "data": {
            "text/html": [
              "<div>\n",
              "<style scoped>\n",
              "    .dataframe tbody tr th:only-of-type {\n",
              "        vertical-align: middle;\n",
              "    }\n",
              "\n",
              "    .dataframe tbody tr th {\n",
              "        vertical-align: top;\n",
              "    }\n",
              "\n",
              "    .dataframe thead th {\n",
              "        text-align: right;\n",
              "    }\n",
              "</style>\n",
              "<table border=\"1\" class=\"dataframe\">\n",
              "  <thead>\n",
              "    <tr style=\"text-align: right;\">\n",
              "      <th></th>\n",
              "      <th>condo</th>\n",
              "      <th>house</th>\n",
              "      <th>townhouse</th>\n",
              "    </tr>\n",
              "  </thead>\n",
              "  <tbody>\n",
              "    <tr>\n",
              "      <th>0</th>\n",
              "      <td>0</td>\n",
              "      <td>0</td>\n",
              "      <td>1</td>\n",
              "    </tr>\n",
              "    <tr>\n",
              "      <th>2</th>\n",
              "      <td>0</td>\n",
              "      <td>0</td>\n",
              "      <td>1</td>\n",
              "    </tr>\n",
              "    <tr>\n",
              "      <th>3</th>\n",
              "      <td>0</td>\n",
              "      <td>0</td>\n",
              "      <td>1</td>\n",
              "    </tr>\n",
              "    <tr>\n",
              "      <th>4</th>\n",
              "      <td>1</td>\n",
              "      <td>0</td>\n",
              "      <td>0</td>\n",
              "    </tr>\n",
              "    <tr>\n",
              "      <th>5</th>\n",
              "      <td>0</td>\n",
              "      <td>0</td>\n",
              "      <td>1</td>\n",
              "    </tr>\n",
              "  </tbody>\n",
              "</table>\n",
              "</div>"
            ],
            "text/plain": [
              "   condo  house  townhouse\n",
              "0      0      0          1\n",
              "2      0      0          1\n",
              "3      0      0          1\n",
              "4      1      0          0\n",
              "5      0      0          1"
            ]
          },
          "metadata": {
            "tags": []
          },
          "execution_count": 31
        }
      ]
    },
    {
      "cell_type": "markdown",
      "metadata": {
        "id": "yoL5ftFU0hJD"
      },
      "source": [
        "## **Merge tables**"
      ]
    },
    {
      "cell_type": "code",
      "metadata": {
        "id": "E-4b_BrM0lD7",
        "outputId": "933114de-860b-4387-b044-c1f9b7ddc8c7",
        "colab": {
          "base_uri": "https://localhost:8080/",
          "height": 343
        }
      },
      "source": [
        "table_df = pd.concat([house_info, prop_area], axis=1)\n",
        "table_df.head()"
      ],
      "execution_count": 32,
      "outputs": [
        {
          "output_type": "execute_result",
          "data": {
            "text/html": [
              "<div>\n",
              "<style scoped>\n",
              "    .dataframe tbody tr th:only-of-type {\n",
              "        vertical-align: middle;\n",
              "    }\n",
              "\n",
              "    .dataframe tbody tr th {\n",
              "        vertical-align: top;\n",
              "    }\n",
              "\n",
              "    .dataframe thead th {\n",
              "        text-align: right;\n",
              "    }\n",
              "</style>\n",
              "<table border=\"1\" class=\"dataframe\">\n",
              "  <thead>\n",
              "    <tr style=\"text-align: right;\">\n",
              "      <th></th>\n",
              "      <th>price</th>\n",
              "      <th>postal_code</th>\n",
              "      <th>address</th>\n",
              "      <th>mls</th>\n",
              "      <th>bed</th>\n",
              "      <th>full_bath</th>\n",
              "      <th>half_bath</th>\n",
              "      <th>property_area</th>\n",
              "      <th>property_type</th>\n",
              "      <th>latitude</th>\n",
              "      <th>longitude</th>\n",
              "      <th>year_built</th>\n",
              "      <th>years_old</th>\n",
              "      <th>distance_downtown</th>\n",
              "      <th>monthly_payments</th>\n",
              "      <th>lot_size</th>\n",
              "      <th>basement</th>\n",
              "      <th>garage</th>\n",
              "      <th>walk_score</th>\n",
              "      <th>bike_score</th>\n",
              "      <th>transit_score</th>\n",
              "      <th>condo</th>\n",
              "      <th>house</th>\n",
              "      <th>townhouse</th>\n",
              "    </tr>\n",
              "  </thead>\n",
              "  <tbody>\n",
              "    <tr>\n",
              "      <th>0</th>\n",
              "      <td>219900</td>\n",
              "      <td>T2Y 3G2</td>\n",
              "      <td>, 22 Shawbrooke Court SW</td>\n",
              "      <td>A1045249</td>\n",
              "      <td>2.0</td>\n",
              "      <td>2.0</td>\n",
              "      <td>1.0</td>\n",
              "      <td>1109.0</td>\n",
              "      <td>townhouse</td>\n",
              "      <td>50.906640</td>\n",
              "      <td>-114.092</td>\n",
              "      <td>1998.0</td>\n",
              "      <td>22.0</td>\n",
              "      <td>15.44</td>\n",
              "      <td>950.87</td>\n",
              "      <td>0</td>\n",
              "      <td>1.0</td>\n",
              "      <td>0.0</td>\n",
              "      <td>17</td>\n",
              "      <td>62</td>\n",
              "      <td>39</td>\n",
              "      <td>0</td>\n",
              "      <td>0</td>\n",
              "      <td>1</td>\n",
              "    </tr>\n",
              "    <tr>\n",
              "      <th>2</th>\n",
              "      <td>549000</td>\n",
              "      <td>T2N 3R3</td>\n",
              "      <td>1 - 1718 KENSINGTON RD NW</td>\n",
              "      <td>A1029496</td>\n",
              "      <td>3.0</td>\n",
              "      <td>3.0</td>\n",
              "      <td>1.0</td>\n",
              "      <td>1211.0</td>\n",
              "      <td>townhouse</td>\n",
              "      <td>51.052786</td>\n",
              "      <td>-114.098</td>\n",
              "      <td>2018.0</td>\n",
              "      <td>2.0</td>\n",
              "      <td>1.89</td>\n",
              "      <td>2373.94</td>\n",
              "      <td>0</td>\n",
              "      <td>0.0</td>\n",
              "      <td>1.0</td>\n",
              "      <td>74</td>\n",
              "      <td>98</td>\n",
              "      <td>61</td>\n",
              "      <td>0</td>\n",
              "      <td>0</td>\n",
              "      <td>1</td>\n",
              "    </tr>\n",
              "    <tr>\n",
              "      <th>3</th>\n",
              "      <td>394000</td>\n",
              "      <td>T3E 1V3</td>\n",
              "      <td>1 - 1938 24A ST SW</td>\n",
              "      <td>A1034579</td>\n",
              "      <td>2.0</td>\n",
              "      <td>2.0</td>\n",
              "      <td>1.0</td>\n",
              "      <td>1046.0</td>\n",
              "      <td>townhouse</td>\n",
              "      <td>51.036421</td>\n",
              "      <td>-114.118</td>\n",
              "      <td>2007.0</td>\n",
              "      <td>13.0</td>\n",
              "      <td>3.22</td>\n",
              "      <td>1703.70</td>\n",
              "      <td>0</td>\n",
              "      <td>0.0</td>\n",
              "      <td>1.0</td>\n",
              "      <td>55</td>\n",
              "      <td>90</td>\n",
              "      <td>60</td>\n",
              "      <td>0</td>\n",
              "      <td>0</td>\n",
              "      <td>1</td>\n",
              "    </tr>\n",
              "    <tr>\n",
              "      <th>4</th>\n",
              "      <td>285000</td>\n",
              "      <td>T2S 0L1</td>\n",
              "      <td>1 - 210 25 AVE SW</td>\n",
              "      <td>A1017109</td>\n",
              "      <td>2.0</td>\n",
              "      <td>1.0</td>\n",
              "      <td>0.0</td>\n",
              "      <td>849.0</td>\n",
              "      <td>condo</td>\n",
              "      <td>51.030731</td>\n",
              "      <td>-114.067</td>\n",
              "      <td>2006.0</td>\n",
              "      <td>14.0</td>\n",
              "      <td>1.65</td>\n",
              "      <td>1232.38</td>\n",
              "      <td>849</td>\n",
              "      <td>0.0</td>\n",
              "      <td>1.0</td>\n",
              "      <td>72</td>\n",
              "      <td>97</td>\n",
              "      <td>58</td>\n",
              "      <td>1</td>\n",
              "      <td>0</td>\n",
              "      <td>0</td>\n",
              "    </tr>\n",
              "    <tr>\n",
              "      <th>5</th>\n",
              "      <td>439000</td>\n",
              "      <td>T2S 2Z2</td>\n",
              "      <td>1 - 24 34 AVE SW</td>\n",
              "      <td>A1043468</td>\n",
              "      <td>3.0</td>\n",
              "      <td>2.0</td>\n",
              "      <td>1.0</td>\n",
              "      <td>1126.0</td>\n",
              "      <td>townhouse</td>\n",
              "      <td>51.023518</td>\n",
              "      <td>-114.061</td>\n",
              "      <td>1982.0</td>\n",
              "      <td>38.0</td>\n",
              "      <td>2.55</td>\n",
              "      <td>1898.29</td>\n",
              "      <td>0</td>\n",
              "      <td>0.0</td>\n",
              "      <td>0.0</td>\n",
              "      <td>36</td>\n",
              "      <td>70</td>\n",
              "      <td>53</td>\n",
              "      <td>0</td>\n",
              "      <td>0</td>\n",
              "      <td>1</td>\n",
              "    </tr>\n",
              "  </tbody>\n",
              "</table>\n",
              "</div>"
            ],
            "text/plain": [
              "    price postal_code                    address  ... condo  house  townhouse\n",
              "0  219900     T2Y 3G2   , 22 Shawbrooke Court SW  ...     0      0          1\n",
              "2  549000     T2N 3R3  1 - 1718 KENSINGTON RD NW  ...     0      0          1\n",
              "3  394000     T3E 1V3         1 - 1938 24A ST SW  ...     0      0          1\n",
              "4  285000     T2S 0L1          1 - 210 25 AVE SW  ...     1      0          0\n",
              "5  439000     T2S 2Z2           1 - 24 34 AVE SW  ...     0      0          1\n",
              "\n",
              "[5 rows x 24 columns]"
            ]
          },
          "metadata": {
            "tags": []
          },
          "execution_count": 32
        }
      ]
    },
    {
      "cell_type": "code",
      "metadata": {
        "id": "EJ_iQAP_0rNA",
        "outputId": "da899c5e-cf1a-4d66-9f67-f630c3199cf2",
        "colab": {
          "base_uri": "https://localhost:8080/",
          "height": 224
        }
      },
      "source": [
        "df = table_df[['price', 'bed', 'full_bath', 'half_bath', 'property_area', 'years_old', 'distance_downtown',\n",
        "                     'lot_size','basement','garage', 'walk_score', 'bike_score', 'transit_score', 'house','condo','townhouse', ]]\n",
        "df.head()"
      ],
      "execution_count": 54,
      "outputs": [
        {
          "output_type": "execute_result",
          "data": {
            "text/html": [
              "<div>\n",
              "<style scoped>\n",
              "    .dataframe tbody tr th:only-of-type {\n",
              "        vertical-align: middle;\n",
              "    }\n",
              "\n",
              "    .dataframe tbody tr th {\n",
              "        vertical-align: top;\n",
              "    }\n",
              "\n",
              "    .dataframe thead th {\n",
              "        text-align: right;\n",
              "    }\n",
              "</style>\n",
              "<table border=\"1\" class=\"dataframe\">\n",
              "  <thead>\n",
              "    <tr style=\"text-align: right;\">\n",
              "      <th></th>\n",
              "      <th>price</th>\n",
              "      <th>bed</th>\n",
              "      <th>full_bath</th>\n",
              "      <th>half_bath</th>\n",
              "      <th>property_area</th>\n",
              "      <th>years_old</th>\n",
              "      <th>distance_downtown</th>\n",
              "      <th>lot_size</th>\n",
              "      <th>basement</th>\n",
              "      <th>garage</th>\n",
              "      <th>walk_score</th>\n",
              "      <th>bike_score</th>\n",
              "      <th>transit_score</th>\n",
              "      <th>house</th>\n",
              "      <th>condo</th>\n",
              "      <th>townhouse</th>\n",
              "    </tr>\n",
              "  </thead>\n",
              "  <tbody>\n",
              "    <tr>\n",
              "      <th>0</th>\n",
              "      <td>219900</td>\n",
              "      <td>2.0</td>\n",
              "      <td>2.0</td>\n",
              "      <td>1.0</td>\n",
              "      <td>1109.0</td>\n",
              "      <td>22.0</td>\n",
              "      <td>15.44</td>\n",
              "      <td>0</td>\n",
              "      <td>1.0</td>\n",
              "      <td>0.0</td>\n",
              "      <td>17</td>\n",
              "      <td>62</td>\n",
              "      <td>39</td>\n",
              "      <td>0</td>\n",
              "      <td>0</td>\n",
              "      <td>1</td>\n",
              "    </tr>\n",
              "    <tr>\n",
              "      <th>2</th>\n",
              "      <td>549000</td>\n",
              "      <td>3.0</td>\n",
              "      <td>3.0</td>\n",
              "      <td>1.0</td>\n",
              "      <td>1211.0</td>\n",
              "      <td>2.0</td>\n",
              "      <td>1.89</td>\n",
              "      <td>0</td>\n",
              "      <td>0.0</td>\n",
              "      <td>1.0</td>\n",
              "      <td>74</td>\n",
              "      <td>98</td>\n",
              "      <td>61</td>\n",
              "      <td>0</td>\n",
              "      <td>0</td>\n",
              "      <td>1</td>\n",
              "    </tr>\n",
              "    <tr>\n",
              "      <th>3</th>\n",
              "      <td>394000</td>\n",
              "      <td>2.0</td>\n",
              "      <td>2.0</td>\n",
              "      <td>1.0</td>\n",
              "      <td>1046.0</td>\n",
              "      <td>13.0</td>\n",
              "      <td>3.22</td>\n",
              "      <td>0</td>\n",
              "      <td>0.0</td>\n",
              "      <td>1.0</td>\n",
              "      <td>55</td>\n",
              "      <td>90</td>\n",
              "      <td>60</td>\n",
              "      <td>0</td>\n",
              "      <td>0</td>\n",
              "      <td>1</td>\n",
              "    </tr>\n",
              "    <tr>\n",
              "      <th>4</th>\n",
              "      <td>285000</td>\n",
              "      <td>2.0</td>\n",
              "      <td>1.0</td>\n",
              "      <td>0.0</td>\n",
              "      <td>849.0</td>\n",
              "      <td>14.0</td>\n",
              "      <td>1.65</td>\n",
              "      <td>849</td>\n",
              "      <td>0.0</td>\n",
              "      <td>1.0</td>\n",
              "      <td>72</td>\n",
              "      <td>97</td>\n",
              "      <td>58</td>\n",
              "      <td>0</td>\n",
              "      <td>1</td>\n",
              "      <td>0</td>\n",
              "    </tr>\n",
              "    <tr>\n",
              "      <th>5</th>\n",
              "      <td>439000</td>\n",
              "      <td>3.0</td>\n",
              "      <td>2.0</td>\n",
              "      <td>1.0</td>\n",
              "      <td>1126.0</td>\n",
              "      <td>38.0</td>\n",
              "      <td>2.55</td>\n",
              "      <td>0</td>\n",
              "      <td>0.0</td>\n",
              "      <td>0.0</td>\n",
              "      <td>36</td>\n",
              "      <td>70</td>\n",
              "      <td>53</td>\n",
              "      <td>0</td>\n",
              "      <td>0</td>\n",
              "      <td>1</td>\n",
              "    </tr>\n",
              "  </tbody>\n",
              "</table>\n",
              "</div>"
            ],
            "text/plain": [
              "    price  bed  full_bath  half_bath  ...  transit_score  house  condo townhouse\n",
              "0  219900  2.0        2.0        1.0  ...             39      0      0         1\n",
              "2  549000  3.0        3.0        1.0  ...             61      0      0         1\n",
              "3  394000  2.0        2.0        1.0  ...             60      0      0         1\n",
              "4  285000  2.0        1.0        0.0  ...             58      0      1         0\n",
              "5  439000  3.0        2.0        1.0  ...             53      0      0         1\n",
              "\n",
              "[5 rows x 16 columns]"
            ]
          },
          "metadata": {
            "tags": []
          },
          "execution_count": 54
        }
      ]
    },
    {
      "cell_type": "code",
      "metadata": {
        "id": "MKEAPHqapkW7"
      },
      "source": [
        "# df.drop(df.loc[df['lot_size']== 'naOc'].index, inplace=True)\n",
        "# df.drop(df.loc[df['lot_size']== '0Occ'].index, inplace=True)\n",
        "# df.drop(df.loc[df['lot_size']== '1 - '].index, inplace=True)\n",
        "# df.drop(df.loc[df['lot_size']== '979O'].index, inplace=True)\n",
        "# df.drop(df.loc[df['lot_size']== '775O'].index, inplace=True)\n",
        "# df.drop(df.loc[df['lot_size']== '85Oc'].index, inplace=True)\n",
        "# df.drop(df.loc[df['lot_size']== '282O'].index, inplace=True)\n",
        "# df.drop(df.loc[df['lot_size']== '600O'].index, inplace=True)\n",
        "# df.drop(df.loc[df['lot_size']== '806O'].index, inplace=True)\n",
        "# df.drop(df.loc[df['lot_size']== '436O'].index, inplace=True)\n",
        "# df.drop(df.loc[df['lot_size']== '319O'].index, inplace=True)\n",
        "# df.drop(df.loc[df['lot_size']== '493O'].index, inplace=True)\n",
        "# df.drop(df.loc[df['lot_size']== 'naOc'].index, inplace=True)\n",
        "# df.drop(df.loc[df['lot_size']== 'naOc'].index, inplace=True)"
      ],
      "execution_count": null,
      "outputs": []
    },
    {
      "cell_type": "code",
      "metadata": {
        "id": "T_KT8xrkqoDD"
      },
      "source": [
        "df['lot_size'] = pd.to_numeric(df['lot_size'])"
      ],
      "execution_count": 55,
      "outputs": []
    },
    {
      "cell_type": "code",
      "metadata": {
        "id": "oPcTUgTkytom",
        "outputId": "5172c1ce-52d3-40ab-c515-9f53dc90a78b",
        "colab": {
          "base_uri": "https://localhost:8080/"
        }
      },
      "source": [
        "df.dtypes"
      ],
      "execution_count": 56,
      "outputs": [
        {
          "output_type": "execute_result",
          "data": {
            "text/plain": [
              "price                  int64\n",
              "bed                  float64\n",
              "full_bath            float64\n",
              "half_bath            float64\n",
              "property_area        float64\n",
              "years_old            float64\n",
              "distance_downtown    float64\n",
              "lot_size             float64\n",
              "basement             float64\n",
              "garage               float64\n",
              "walk_score             int64\n",
              "bike_score             int64\n",
              "transit_score          int64\n",
              "house                  uint8\n",
              "condo                  uint8\n",
              "townhouse              uint8\n",
              "dtype: object"
            ]
          },
          "metadata": {
            "tags": []
          },
          "execution_count": 56
        }
      ]
    },
    {
      "cell_type": "code",
      "metadata": {
        "id": "3763m8puuEtP",
        "outputId": "ce87f4c3-9a45-4bc7-8eb6-edffdcfa055f",
        "colab": {
          "base_uri": "https://localhost:8080/"
        }
      },
      "source": [
        "len(df)"
      ],
      "execution_count": 73,
      "outputs": [
        {
          "output_type": "execute_result",
          "data": {
            "text/plain": [
              "1577"
            ]
          },
          "metadata": {
            "tags": []
          },
          "execution_count": 73
        }
      ]
    },
    {
      "cell_type": "markdown",
      "metadata": {
        "id": "J4ja5qKNwhQg"
      },
      "source": [
        "# **Load to Postgres db**"
      ]
    },
    {
      "cell_type": "code",
      "metadata": {
        "id": "Lj5ibYgnwVz3"
      },
      "source": [
        "from sqlalchemy import create_engine\n",
        "\n",
        "rds_connection_string = \"hexbstnnfbqjwk:13f84410f3efc3df8c053dd3452713a5e63bafe4a7dad292256ae514193d2784@ec2-34-238-26-109.compute-1.amazonaws.com:5432/d1jfbocoh8eqgo\"\n",
        "engine = create_engine(f'postgresql://{rds_connection_string}')\n",
        "\n",
        "df.to_sql(name= \"listings\", con=engine, if_exists=\"replace\", index=False)"
      ],
      "execution_count": 74,
      "outputs": []
    },
    {
      "cell_type": "markdown",
      "metadata": {
        "id": "ZEO3JYuN0xni"
      },
      "source": [
        "## **Train Data**"
      ]
    },
    {
      "cell_type": "code",
      "metadata": {
        "id": "jjuwKzSw011r"
      },
      "source": [
        "X = df.drop('price', axis=1)\n",
        "y = df['price']"
      ],
      "execution_count": 58,
      "outputs": []
    },
    {
      "cell_type": "code",
      "metadata": {
        "id": "anc2zGhl05JL"
      },
      "source": [
        "# Use train_test_split to create training and testing data\n",
        "from sklearn.model_selection import train_test_split\n",
        "\n",
        "X_train, X_test, y_train, y_test = train_test_split(X, y, random_state=42)"
      ],
      "execution_count": 59,
      "outputs": []
    },
    {
      "cell_type": "code",
      "metadata": {
        "id": "0w1g3BidnSY1",
        "outputId": "fd7a050e-b9e4-44f5-f298-2dd6cfc67555",
        "colab": {
          "base_uri": "https://localhost:8080/"
        }
      },
      "source": [
        "from sklearn.preprocessing import MinMaxScaler\n",
        "from sklearn.feature_selection import SelectKBest\n",
        "from sklearn.feature_selection import chi2\n",
        "\n",
        "X_minmax = MinMaxScaler().fit(X_train)\n",
        "\n",
        "X_train_minmax = X_minmax.transform(X_train)\n",
        "X_test_minmax = X_minmax.transform(X_test)\n",
        "\n",
        "\n",
        "\n",
        "#apply SelectKBest class to extract top 10 best features\n",
        "bestfeatures = SelectKBest(score_func=chi2, k='all')\n",
        "fit = bestfeatures.fit(X_train_minmax,y_train)\n",
        "dfscores = pd.DataFrame(fit.scores_)\n",
        "dfcolumns = pd.DataFrame(X.columns)\n",
        "#concat two dataframes for better visualization \n",
        "featureScores = pd.concat([dfcolumns,dfscores],axis=1)\n",
        "featureScores.columns = ['Specs','Score']  #naming the dataframe columns\n",
        "top_features = featureScores.nlargest(10,'Score')\n",
        "print(top_features)  #print best features"
      ],
      "execution_count": 60,
      "outputs": [
        {
          "output_type": "stream",
          "text": [
            "         Specs       Score\n",
            "13       condo  529.484535\n",
            "14   townhouse  503.669618\n",
            "12       house  378.639259\n",
            "7     basement  336.110807\n",
            "8       garage  210.353902\n",
            "2    half_bath  175.311264\n",
            "1    full_bath  143.851812\n",
            "9   walk_score   98.105083\n",
            "0          bed   96.482126\n",
            "4    years_old   89.665694\n"
          ],
          "name": "stdout"
        }
      ]
    },
    {
      "cell_type": "code",
      "metadata": {
        "id": "7s8FxnfQ07c-"
      },
      "source": [
        "# Create the model using LinearRegression\n",
        "\n",
        "from sklearn.linear_model import LinearRegression\n",
        "model = LinearRegression()"
      ],
      "execution_count": 61,
      "outputs": []
    },
    {
      "cell_type": "code",
      "metadata": {
        "id": "imE5A-_O099k",
        "outputId": "7b15f2ef-6915-45f4-9972-1b3b0696573e",
        "colab": {
          "base_uri": "https://localhost:8080/"
        }
      },
      "source": [
        "# Fit the model to the training data and calculate the score for the training data\n",
        "\n",
        "model.fit(X_train_minmax, y_train)\n",
        "training_score = model.score(X_train_minmax, y_train)\n",
        "\n",
        "print(f\"Training Score: {training_score}\")"
      ],
      "execution_count": 62,
      "outputs": [
        {
          "output_type": "stream",
          "text": [
            "Training Score: 0.7461935971351074\n"
          ],
          "name": "stdout"
        }
      ]
    },
    {
      "cell_type": "markdown",
      "metadata": {
        "id": "PO-FkH3w1DpK"
      },
      "source": [
        "## **Test Data**"
      ]
    },
    {
      "cell_type": "code",
      "metadata": {
        "id": "t_FVyL_X1Bzc",
        "outputId": "55d08392-3454-495d-e4b2-e00b76f348cf",
        "colab": {
          "base_uri": "https://localhost:8080/"
        }
      },
      "source": [
        "# Calculate the score for the testing data\n",
        "\n",
        "testing_score = model.score(X_test_minmax, y_test)\n",
        "print(f\"Testing Score: {testing_score}\")"
      ],
      "execution_count": 63,
      "outputs": [
        {
          "output_type": "stream",
          "text": [
            "Testing Score: 0.7469952186397636\n"
          ],
          "name": "stdout"
        }
      ]
    },
    {
      "cell_type": "markdown",
      "metadata": {
        "id": "JUY6EoMP1ZkQ"
      },
      "source": [
        "## **Linear Regression Model**"
      ]
    },
    {
      "cell_type": "code",
      "metadata": {
        "id": "QddIt6tB1Rbj",
        "outputId": "6ddd72fd-12be-400d-e563-b8947a731f91",
        "colab": {
          "base_uri": "https://localhost:8080/"
        }
      },
      "source": [
        "from sklearn import linear_model\n",
        "regr = linear_model.LinearRegression()\n",
        "regr.fit(X, y)"
      ],
      "execution_count": 64,
      "outputs": [
        {
          "output_type": "execute_result",
          "data": {
            "text/plain": [
              "LinearRegression(copy_X=True, fit_intercept=True, n_jobs=None, normalize=False)"
            ]
          },
          "metadata": {
            "tags": []
          },
          "execution_count": 64
        }
      ]
    },
    {
      "cell_type": "code",
      "metadata": {
        "id": "EMEItztG1hE5",
        "outputId": "20a77d01-36ef-4f17-85c1-8b70196e9836",
        "colab": {
          "base_uri": "https://localhost:8080/"
        }
      },
      "source": [
        "regr.coef_"
      ],
      "execution_count": 65,
      "outputs": [
        {
          "output_type": "execute_result",
          "data": {
            "text/plain": [
              "array([-8.08963446e+03,  5.35201567e+04,  3.39174415e+03,  1.86100534e+02,\n",
              "       -1.60857384e-01, -1.19539197e+04,  2.79456535e+00, -1.42718923e+03,\n",
              "        4.16786666e+04, -6.73534275e+02,  6.12762842e+02, -2.66021501e+02,\n",
              "        6.54765943e+04, -3.37737955e+04, -3.17027988e+04])"
            ]
          },
          "metadata": {
            "tags": []
          },
          "execution_count": 65
        }
      ]
    },
    {
      "cell_type": "code",
      "metadata": {
        "id": "mX5xLjO91lDY",
        "outputId": "7ac38db5-1e58-4d2e-9463-97a371517d96",
        "colab": {
          "base_uri": "https://localhost:8080/"
        }
      },
      "source": [
        "regr.intercept_"
      ],
      "execution_count": 66,
      "outputs": [
        {
          "output_type": "execute_result",
          "data": {
            "text/plain": [
              "162733.62751620263"
            ]
          },
          "metadata": {
            "tags": []
          },
          "execution_count": 66
        }
      ]
    },
    {
      "cell_type": "code",
      "metadata": {
        "id": "CKakb__d1n3X",
        "outputId": "7e980c2b-ae88-427e-da9e-20074b56ed80",
        "colab": {
          "base_uri": "https://localhost:8080/"
        }
      },
      "source": [
        "# Predict the price of a townhouse with the following features\n",
        "\n",
        "# bed = 3\n",
        "# full_bath = 2\n",
        "# half_bath = 0\n",
        "# property_area = 1500\n",
        "# years_old = 15\n",
        "# distance_downtown = 12.554\n",
        "\n",
        "regr.predict([[3, 2, 1, 1500, 15, 15, 2001, 1, 1, 50, 50, 35, 1, 0, 0]])"
      ],
      "execution_count": 67,
      "outputs": [
        {
          "output_type": "execute_result",
          "data": {
            "text/plain": [
              "array([447707.04690012])"
            ]
          },
          "metadata": {
            "tags": []
          },
          "execution_count": 67
        }
      ]
    },
    {
      "cell_type": "code",
      "metadata": {
        "id": "x51nbaZY1rId",
        "outputId": "4b38567f-3068-4504-b4e1-b6a9ab563cf2",
        "colab": {
          "base_uri": "https://localhost:8080/"
        }
      },
      "source": [
        "# Another sample\n",
        "\n",
        "# regr.predict([[3, 3, 0, 1200, 0, 0, 1, 15, 14.2, 50, 50, 50, 1800, 0, 0]])"
      ],
      "execution_count": 47,
      "outputs": [
        {
          "output_type": "execute_result",
          "data": {
            "text/plain": [
              "array([309585.5343946])"
            ]
          },
          "metadata": {
            "tags": []
          },
          "execution_count": 47
        }
      ]
    },
    {
      "cell_type": "code",
      "metadata": {
        "id": "-laO_N7h1xrm",
        "outputId": "a1c90bfc-0e82-4ee2-dbca-81e98fe9c7e4",
        "colab": {
          "base_uri": "https://localhost:8080/",
          "height": 638
        }
      },
      "source": [
        "# Plot the Residuals for the Training and Testing data\n",
        "\n",
        "plt.figure(figsize=(10, 10))\n",
        "plt.scatter(model.predict(X_train_minmax), model.predict(X_train_minmax) - y_train, c=\"blue\", label=\"Training Data\")\n",
        "plt.scatter(model.predict(X_test_minmax), model.predict(X_test_minmax) - y_test, c=\"orange\", label=\"Testing Data\")\n",
        "plt.legend()\n",
        "plt.hlines(y=0, xmin=y.min(), xmax=y.max())\n",
        "plt.title(\"Residual Plot\")"
      ],
      "execution_count": 68,
      "outputs": [
        {
          "output_type": "execute_result",
          "data": {
            "text/plain": [
              "Text(0.5, 1.0, 'Residual Plot')"
            ]
          },
          "metadata": {
            "tags": []
          },
          "execution_count": 68
        },
        {
          "output_type": "display_data",
          "data": {
            "image/png": "[encoded data removed]",
            "text/plain": [
              "<Figure size 720x720 with 1 Axes>"
            ]
          },
          "metadata": {
            "tags": []
          }
        }
      ]
    },
    {
      "cell_type": "code",
      "metadata": {
        "id": "phx2pdBA11Os",
        "outputId": "02f4dbdc-638c-4048-98b9-45049c93e45e",
        "colab": {
          "base_uri": "https://localhost:8080/"
        }
      },
      "source": [
        "# save your model by updating \"your_name\" with your name\n",
        "# and \"your_model\" with your model variable\n",
        "# be sure to turn this in to BCS\n",
        "# if joblib fails to import, try running the command to install in terminal/git-bash\n",
        "import joblib\n",
        "filename = 'LogisticRegression.sav'\n",
        "joblib.dump(regr, filename)"
      ],
      "execution_count": 69,
      "outputs": [
        {
          "output_type": "execute_result",
          "data": {
            "text/plain": [
              "['LogisticRegression.sav']"
            ]
          },
          "metadata": {
            "tags": []
          },
          "execution_count": 69
        }
      ]
    },
    {
      "cell_type": "code",
      "metadata": {
        "id": "bjsbObuyY1TO",
        "outputId": "596c83b5-625f-4ae2-de6a-7b2f637ef8cd",
        "colab": {
          "base_uri": "https://localhost:8080/"
        }
      },
      "source": [
        "joblib_LR_model = joblib.load(filename)\n",
        "joblib_LR_model"
      ],
      "execution_count": 70,
      "outputs": [
        {
          "output_type": "execute_result",
          "data": {
            "text/plain": [
              "LinearRegression(copy_X=True, fit_intercept=True, n_jobs=None, normalize=False)"
            ]
          },
          "metadata": {
            "tags": []
          },
          "execution_count": 70
        }
      ]
    },
    {
      "cell_type": "code",
      "metadata": {
        "id": "DNb-JIXQaMhZ",
        "outputId": "a4821a80-f825-4a35-8e89-a71709ba748c",
        "colab": {
          "base_uri": "https://localhost:8080/"
        }
      },
      "source": [
        "test_data = [[3, 2, 1, 1500, 15, 15, 2001, 1, 1, 50, 50, 35, 1, 0, 0]]\n",
        "Ypredict = joblib_LR_model.predict(test_data)  \n",
        "Ypredict"
      ],
      "execution_count": 71,
      "outputs": [
        {
          "output_type": "execute_result",
          "data": {
            "text/plain": [
              "array([447707.04690012])"
            ]
          },
          "metadata": {
            "tags": []
          },
          "execution_count": 71
        }
      ]
    }
  ]
}