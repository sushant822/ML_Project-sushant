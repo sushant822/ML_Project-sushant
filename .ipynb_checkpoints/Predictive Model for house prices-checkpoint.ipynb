{
 "cells": [
  {
   "cell_type": "markdown",
   "metadata": {},
   "source": [
    "# Collecting Data"
   ]
  },
  {
   "cell_type": "code",
   "execution_count": 2,
   "metadata": {},
   "outputs": [],
   "source": [
    "import pandas as pd\n",
    "import numpy as np\n",
    "import matplotlib.pyplot as plt\n",
    "import seaborn as sns\n",
    "import math\n",
    "%matplotlib inline\n",
    "import warnings\n",
    "warnings.filterwarnings(\"ignore\")"
   ]
  },
  {
   "cell_type": "code",
   "execution_count": 17,
   "metadata": {},
   "outputs": [
    {
     "data": {
      "text/html": [
       "<div>\n",
       "<style scoped>\n",
       "    .dataframe tbody tr th:only-of-type {\n",
       "        vertical-align: middle;\n",
       "    }\n",
       "\n",
       "    .dataframe tbody tr th {\n",
       "        vertical-align: top;\n",
       "    }\n",
       "\n",
       "    .dataframe thead th {\n",
       "        text-align: right;\n",
       "    }\n",
       "</style>\n",
       "<table border=\"1\" class=\"dataframe\">\n",
       "  <thead>\n",
       "    <tr style=\"text-align: right;\">\n",
       "      <th></th>\n",
       "      <th>price</th>\n",
       "      <th>postal_code</th>\n",
       "      <th>address</th>\n",
       "      <th>bed</th>\n",
       "      <th>full_bath</th>\n",
       "      <th>half_bath</th>\n",
       "      <th>property_area</th>\n",
       "      <th>property_type</th>\n",
       "      <th>latitude</th>\n",
       "      <th>longitude</th>\n",
       "      <th>year_built</th>\n",
       "      <th>years_old</th>\n",
       "      <th>distance_downtown</th>\n",
       "      <th>monthly_payments</th>\n",
       "    </tr>\n",
       "  </thead>\n",
       "  <tbody>\n",
       "    <tr>\n",
       "      <th>0</th>\n",
       "      <td>329900</td>\n",
       "      <td>T1Y2Z3</td>\n",
       "      <td>4312 49 ST NE</td>\n",
       "      <td>4.0</td>\n",
       "      <td>1.0</td>\n",
       "      <td>1.0</td>\n",
       "      <td>2300.0</td>\n",
       "      <td>house</td>\n",
       "      <td>51.090065</td>\n",
       "      <td>-113.962366</td>\n",
       "      <td>1977.0</td>\n",
       "      <td>43.0</td>\n",
       "      <td>9.274735</td>\n",
       "      <td>1426.53</td>\n",
       "    </tr>\n",
       "    <tr>\n",
       "      <th>1</th>\n",
       "      <td>425000</td>\n",
       "      <td>T3L2E7</td>\n",
       "      <td>108 TUSCANY VALLEY DR NW</td>\n",
       "      <td>4.0</td>\n",
       "      <td>2.0</td>\n",
       "      <td>1.0</td>\n",
       "      <td>1336.0</td>\n",
       "      <td>house</td>\n",
       "      <td>51.128175</td>\n",
       "      <td>-114.247503</td>\n",
       "      <td>1998.0</td>\n",
       "      <td>22.0</td>\n",
       "      <td>15.255297</td>\n",
       "      <td>1837.75</td>\n",
       "    </tr>\n",
       "    <tr>\n",
       "      <th>2</th>\n",
       "      <td>234900</td>\n",
       "      <td>T3R0V5</td>\n",
       "      <td>2107 - 450 SAGE VALLEY DR NW</td>\n",
       "      <td>2.0</td>\n",
       "      <td>2.0</td>\n",
       "      <td>NaN</td>\n",
       "      <td>835.0</td>\n",
       "      <td>condo</td>\n",
       "      <td>51.179434</td>\n",
       "      <td>-114.158282</td>\n",
       "      <td>2015.0</td>\n",
       "      <td>5.0</td>\n",
       "      <td>16.076061</td>\n",
       "      <td>1015.74</td>\n",
       "    </tr>\n",
       "    <tr>\n",
       "      <th>3</th>\n",
       "      <td>369000</td>\n",
       "      <td>T1Y3V2</td>\n",
       "      <td>6852 RUNDLEHORN DR NE</td>\n",
       "      <td>5.0</td>\n",
       "      <td>3.0</td>\n",
       "      <td>NaN</td>\n",
       "      <td>1136.0</td>\n",
       "      <td>house</td>\n",
       "      <td>51.079270</td>\n",
       "      <td>-113.940553</td>\n",
       "      <td>1978.0</td>\n",
       "      <td>42.0</td>\n",
       "      <td>10.076730</td>\n",
       "      <td>1595.60</td>\n",
       "    </tr>\n",
       "    <tr>\n",
       "      <th>4</th>\n",
       "      <td>424900</td>\n",
       "      <td>T2X1G2</td>\n",
       "      <td>27 MIDRIDGE CLOSE SE</td>\n",
       "      <td>3.0</td>\n",
       "      <td>2.0</td>\n",
       "      <td>NaN</td>\n",
       "      <td>1055.0</td>\n",
       "      <td>house</td>\n",
       "      <td>50.920030</td>\n",
       "      <td>-114.054980</td>\n",
       "      <td>1978.0</td>\n",
       "      <td>42.0</td>\n",
       "      <td>13.958058</td>\n",
       "      <td>1837.32</td>\n",
       "    </tr>\n",
       "  </tbody>\n",
       "</table>\n",
       "</div>"
      ],
      "text/plain": [
       "    price postal_code                       address  bed  full_bath  \\\n",
       "0  329900      T1Y2Z3                 4312 49 ST NE  4.0        1.0   \n",
       "1  425000      T3L2E7      108 TUSCANY VALLEY DR NW  4.0        2.0   \n",
       "2  234900      T3R0V5  2107 - 450 SAGE VALLEY DR NW  2.0        2.0   \n",
       "3  369000      T1Y3V2         6852 RUNDLEHORN DR NE  5.0        3.0   \n",
       "4  424900      T2X1G2          27 MIDRIDGE CLOSE SE  3.0        2.0   \n",
       "\n",
       "   half_bath  property_area property_type   latitude   longitude  year_built  \\\n",
       "0        1.0         2300.0         house  51.090065 -113.962366      1977.0   \n",
       "1        1.0         1336.0         house  51.128175 -114.247503      1998.0   \n",
       "2        NaN          835.0         condo  51.179434 -114.158282      2015.0   \n",
       "3        NaN         1136.0         house  51.079270 -113.940553      1978.0   \n",
       "4        NaN         1055.0         house  50.920030 -114.054980      1978.0   \n",
       "\n",
       "   years_old  distance_downtown  monthly_payments  \n",
       "0       43.0           9.274735           1426.53  \n",
       "1       22.0          15.255297           1837.75  \n",
       "2        5.0          16.076061           1015.74  \n",
       "3       42.0          10.076730           1595.60  \n",
       "4       42.0          13.958058           1837.32  "
      ]
     },
     "execution_count": 17,
     "metadata": {},
     "output_type": "execute_result"
    }
   ],
   "source": [
    "house_info = pd.read_csv(\"data/calgary_listings.csv\")\n",
    "house_info.head()"
   ]
  },
  {
   "cell_type": "markdown",
   "metadata": {},
   "source": [
    "# Analyzing Data"
   ]
  },
  {
   "cell_type": "code",
   "execution_count": 4,
   "metadata": {},
   "outputs": [
    {
     "data": {
      "text/plain": [
       "<matplotlib.axes._subplots.AxesSubplot at 0x7faa39ae55d0>"
      ]
     },
     "execution_count": 4,
     "metadata": {},
     "output_type": "execute_result"
    },
    {
     "data": {
      "image/png": "[encoded data removed]",
      "text/plain": [
       "<Figure size 432x288 with 1 Axes>"
      ]
     },
     "metadata": {
      "needs_background": "light"
     },
     "output_type": "display_data"
    }
   ],
   "source": [
    "sns.countplot(x=\"bed\", data=house_info)"
   ]
  },
  {
   "cell_type": "code",
   "execution_count": 6,
   "metadata": {},
   "outputs": [
    {
     "data": {
      "text/plain": [
       "<matplotlib.axes._subplots.AxesSubplot at 0x7faa3a7403d0>"
      ]
     },
     "execution_count": 6,
     "metadata": {},
     "output_type": "execute_result"
    },
    {
     "data": {
      "image/png": "[encoded data removed]",
      "text/plain": [
       "<Figure size 432x288 with 1 Axes>"
      ]
     },
     "metadata": {
      "needs_background": "light"
     },
     "output_type": "display_data"
    }
   ],
   "source": [
    "sns.barplot(x=\"bed\", y=\"price\", data=house_info)"
   ]
  },
  {
   "cell_type": "code",
   "execution_count": 10,
   "metadata": {},
   "outputs": [
    {
     "data": {
      "text/plain": [
       "<matplotlib.axes._subplots.AxesSubplot at 0x7fa9c920fc10>"
      ]
     },
     "execution_count": 10,
     "metadata": {},
     "output_type": "execute_result"
    },
    {
     "data": {
      "image/png": "[encoded data removed]",
      "text/plain": [
       "<Figure size 432x288 with 1 Axes>"
      ]
     },
     "metadata": {
      "needs_background": "light"
     },
     "output_type": "display_data"
    }
   ],
   "source": [
    "house_info[\"price\"].plot.hist()\n",
    "#house_info[\"price\"].plot.hist(bins=200000, figsize=(10, 5))"
   ]
  },
  {
   "cell_type": "markdown",
   "metadata": {},
   "source": [
    "# Data Wrangling"
   ]
  },
  {
   "cell_type": "code",
   "execution_count": 18,
   "metadata": {},
   "outputs": [
    {
     "data": {
      "text/plain": [
       "price                 0\n",
       "postal_code           0\n",
       "address               0\n",
       "bed                   0\n",
       "full_bath             0\n",
       "half_bath            37\n",
       "property_area         0\n",
       "property_type         0\n",
       "latitude              0\n",
       "longitude             0\n",
       "year_built            7\n",
       "years_old             7\n",
       "distance_downtown     0\n",
       "monthly_payments      5\n",
       "dtype: int64"
      ]
     },
     "execution_count": 18,
     "metadata": {},
     "output_type": "execute_result"
    }
   ],
   "source": [
    "house_info.isnull().sum()"
   ]
  },
  {
   "cell_type": "code",
   "execution_count": 28,
   "metadata": {},
   "outputs": [
    {
     "data": {
      "text/plain": [
       "<matplotlib.axes._subplots.AxesSubplot at 0x7fa9cd8ccfd0>"
      ]
     },
     "execution_count": 28,
     "metadata": {},
     "output_type": "execute_result"
    },
    {
     "data": {
      "image/png": "[encoded data removed]",
      "text/plain": [
       "<Figure size 432x288 with 2 Axes>"
      ]
     },
     "metadata": {
      "needs_background": "light"
     },
     "output_type": "display_data"
    }
   ],
   "source": [
    "sns.heatmap(data=house_info.isnull(), yticklabels=False)"
   ]
  },
  {
   "cell_type": "code",
   "execution_count": 21,
   "metadata": {},
   "outputs": [],
   "source": [
    "house_info['years_old']=house_info['years_old'].replace(np.nan,house_info['years_old'].mean())"
   ]
  },
  {
   "cell_type": "code",
   "execution_count": 23,
   "metadata": {},
   "outputs": [],
   "source": [
    "house_info['half_bath']=house_info['half_bath'].replace(np.nan,0)"
   ]
  },
  {
   "cell_type": "code",
   "execution_count": 29,
   "metadata": {},
   "outputs": [
    {
     "data": {
      "text/plain": [
       "price                0\n",
       "postal_code          0\n",
       "address              0\n",
       "bed                  0\n",
       "full_bath            0\n",
       "half_bath            0\n",
       "property_area        0\n",
       "property_type        0\n",
       "latitude             0\n",
       "longitude            0\n",
       "year_built           7\n",
       "years_old            0\n",
       "distance_downtown    0\n",
       "monthly_payments     5\n",
       "dtype: int64"
      ]
     },
     "execution_count": 29,
     "metadata": {},
     "output_type": "execute_result"
    }
   ],
   "source": [
    "house_info.isnull().sum()"
   ]
  },
  {
   "cell_type": "code",
   "execution_count": 33,
   "metadata": {},
   "outputs": [
    {
     "data": {
      "text/html": [
       "<div>\n",
       "<style scoped>\n",
       "    .dataframe tbody tr th:only-of-type {\n",
       "        vertical-align: middle;\n",
       "    }\n",
       "\n",
       "    .dataframe tbody tr th {\n",
       "        vertical-align: top;\n",
       "    }\n",
       "\n",
       "    .dataframe thead th {\n",
       "        text-align: right;\n",
       "    }\n",
       "</style>\n",
       "<table border=\"1\" class=\"dataframe\">\n",
       "  <thead>\n",
       "    <tr style=\"text-align: right;\">\n",
       "      <th></th>\n",
       "      <th>price</th>\n",
       "      <th>postal_code</th>\n",
       "      <th>address</th>\n",
       "      <th>bed</th>\n",
       "      <th>full_bath</th>\n",
       "      <th>half_bath</th>\n",
       "      <th>property_area</th>\n",
       "      <th>property_type</th>\n",
       "      <th>latitude</th>\n",
       "      <th>longitude</th>\n",
       "      <th>year_built</th>\n",
       "      <th>years_old</th>\n",
       "      <th>distance_downtown</th>\n",
       "      <th>monthly_payments</th>\n",
       "    </tr>\n",
       "  </thead>\n",
       "  <tbody>\n",
       "    <tr>\n",
       "      <th>0</th>\n",
       "      <td>329900</td>\n",
       "      <td>T1Y2Z3</td>\n",
       "      <td>4312 49 ST NE</td>\n",
       "      <td>4.0</td>\n",
       "      <td>1.0</td>\n",
       "      <td>1.0</td>\n",
       "      <td>2300.0</td>\n",
       "      <td>house</td>\n",
       "      <td>51.090065</td>\n",
       "      <td>-113.962366</td>\n",
       "      <td>1977.0</td>\n",
       "      <td>43.0</td>\n",
       "      <td>9.274735</td>\n",
       "      <td>1426.53</td>\n",
       "    </tr>\n",
       "    <tr>\n",
       "      <th>1</th>\n",
       "      <td>425000</td>\n",
       "      <td>T3L2E7</td>\n",
       "      <td>108 TUSCANY VALLEY DR NW</td>\n",
       "      <td>4.0</td>\n",
       "      <td>2.0</td>\n",
       "      <td>1.0</td>\n",
       "      <td>1336.0</td>\n",
       "      <td>house</td>\n",
       "      <td>51.128175</td>\n",
       "      <td>-114.247503</td>\n",
       "      <td>1998.0</td>\n",
       "      <td>22.0</td>\n",
       "      <td>15.255297</td>\n",
       "      <td>1837.75</td>\n",
       "    </tr>\n",
       "    <tr>\n",
       "      <th>2</th>\n",
       "      <td>234900</td>\n",
       "      <td>T3R0V5</td>\n",
       "      <td>2107 - 450 SAGE VALLEY DR NW</td>\n",
       "      <td>2.0</td>\n",
       "      <td>2.0</td>\n",
       "      <td>0.0</td>\n",
       "      <td>835.0</td>\n",
       "      <td>condo</td>\n",
       "      <td>51.179434</td>\n",
       "      <td>-114.158282</td>\n",
       "      <td>2015.0</td>\n",
       "      <td>5.0</td>\n",
       "      <td>16.076061</td>\n",
       "      <td>1015.74</td>\n",
       "    </tr>\n",
       "    <tr>\n",
       "      <th>3</th>\n",
       "      <td>369000</td>\n",
       "      <td>T1Y3V2</td>\n",
       "      <td>6852 RUNDLEHORN DR NE</td>\n",
       "      <td>5.0</td>\n",
       "      <td>3.0</td>\n",
       "      <td>0.0</td>\n",
       "      <td>1136.0</td>\n",
       "      <td>house</td>\n",
       "      <td>51.079270</td>\n",
       "      <td>-113.940553</td>\n",
       "      <td>1978.0</td>\n",
       "      <td>42.0</td>\n",
       "      <td>10.076730</td>\n",
       "      <td>1595.60</td>\n",
       "    </tr>\n",
       "    <tr>\n",
       "      <th>4</th>\n",
       "      <td>424900</td>\n",
       "      <td>T2X1G2</td>\n",
       "      <td>27 MIDRIDGE CLOSE SE</td>\n",
       "      <td>3.0</td>\n",
       "      <td>2.0</td>\n",
       "      <td>0.0</td>\n",
       "      <td>1055.0</td>\n",
       "      <td>house</td>\n",
       "      <td>50.920030</td>\n",
       "      <td>-114.054980</td>\n",
       "      <td>1978.0</td>\n",
       "      <td>42.0</td>\n",
       "      <td>13.958058</td>\n",
       "      <td>1837.32</td>\n",
       "    </tr>\n",
       "  </tbody>\n",
       "</table>\n",
       "</div>"
      ],
      "text/plain": [
       "    price postal_code                       address  bed  full_bath  \\\n",
       "0  329900      T1Y2Z3                 4312 49 ST NE  4.0        1.0   \n",
       "1  425000      T3L2E7      108 TUSCANY VALLEY DR NW  4.0        2.0   \n",
       "2  234900      T3R0V5  2107 - 450 SAGE VALLEY DR NW  2.0        2.0   \n",
       "3  369000      T1Y3V2         6852 RUNDLEHORN DR NE  5.0        3.0   \n",
       "4  424900      T2X1G2          27 MIDRIDGE CLOSE SE  3.0        2.0   \n",
       "\n",
       "   half_bath  property_area property_type   latitude   longitude  year_built  \\\n",
       "0        1.0         2300.0         house  51.090065 -113.962366      1977.0   \n",
       "1        1.0         1336.0         house  51.128175 -114.247503      1998.0   \n",
       "2        0.0          835.0         condo  51.179434 -114.158282      2015.0   \n",
       "3        0.0         1136.0         house  51.079270 -113.940553      1978.0   \n",
       "4        0.0         1055.0         house  50.920030 -114.054980      1978.0   \n",
       "\n",
       "   years_old  distance_downtown  monthly_payments  \n",
       "0       43.0           9.274735           1426.53  \n",
       "1       22.0          15.255297           1837.75  \n",
       "2        5.0          16.076061           1015.74  \n",
       "3       42.0          10.076730           1595.60  \n",
       "4       42.0          13.958058           1837.32  "
      ]
     },
     "execution_count": 33,
     "metadata": {},
     "output_type": "execute_result"
    }
   ],
   "source": [
    "house_info.head()"
   ]
  },
  {
   "cell_type": "markdown",
   "metadata": {},
   "source": [
    "# One-hot encoding"
   ]
  },
  {
   "cell_type": "code",
   "execution_count": 39,
   "metadata": {},
   "outputs": [
    {
     "data": {
      "text/html": [
       "<div>\n",
       "<style scoped>\n",
       "    .dataframe tbody tr th:only-of-type {\n",
       "        vertical-align: middle;\n",
       "    }\n",
       "\n",
       "    .dataframe tbody tr th {\n",
       "        vertical-align: top;\n",
       "    }\n",
       "\n",
       "    .dataframe thead th {\n",
       "        text-align: right;\n",
       "    }\n",
       "</style>\n",
       "<table border=\"1\" class=\"dataframe\">\n",
       "  <thead>\n",
       "    <tr style=\"text-align: right;\">\n",
       "      <th></th>\n",
       "      <th>condo</th>\n",
       "      <th>house</th>\n",
       "      <th>townhouse</th>\n",
       "    </tr>\n",
       "  </thead>\n",
       "  <tbody>\n",
       "    <tr>\n",
       "      <th>0</th>\n",
       "      <td>0</td>\n",
       "      <td>1</td>\n",
       "      <td>0</td>\n",
       "    </tr>\n",
       "    <tr>\n",
       "      <th>1</th>\n",
       "      <td>0</td>\n",
       "      <td>1</td>\n",
       "      <td>0</td>\n",
       "    </tr>\n",
       "    <tr>\n",
       "      <th>2</th>\n",
       "      <td>1</td>\n",
       "      <td>0</td>\n",
       "      <td>0</td>\n",
       "    </tr>\n",
       "    <tr>\n",
       "      <th>3</th>\n",
       "      <td>0</td>\n",
       "      <td>1</td>\n",
       "      <td>0</td>\n",
       "    </tr>\n",
       "    <tr>\n",
       "      <th>4</th>\n",
       "      <td>0</td>\n",
       "      <td>1</td>\n",
       "      <td>0</td>\n",
       "    </tr>\n",
       "  </tbody>\n",
       "</table>\n",
       "</div>"
      ],
      "text/plain": [
       "   condo  house  townhouse\n",
       "0      0      1          0\n",
       "1      0      1          0\n",
       "2      1      0          0\n",
       "3      0      1          0\n",
       "4      0      1          0"
      ]
     },
     "execution_count": 39,
     "metadata": {},
     "output_type": "execute_result"
    }
   ],
   "source": [
    "prop_area = pd.get_dummies(house_info[\"property_type\"])\n",
    "prop_area.head()"
   ]
  },
  {
   "cell_type": "markdown",
   "metadata": {},
   "source": [
    "# Merge tables"
   ]
  },
  {
   "cell_type": "code",
   "execution_count": 40,
   "metadata": {},
   "outputs": [
    {
     "data": {
      "text/html": [
       "<div>\n",
       "<style scoped>\n",
       "    .dataframe tbody tr th:only-of-type {\n",
       "        vertical-align: middle;\n",
       "    }\n",
       "\n",
       "    .dataframe tbody tr th {\n",
       "        vertical-align: top;\n",
       "    }\n",
       "\n",
       "    .dataframe thead th {\n",
       "        text-align: right;\n",
       "    }\n",
       "</style>\n",
       "<table border=\"1\" class=\"dataframe\">\n",
       "  <thead>\n",
       "    <tr style=\"text-align: right;\">\n",
       "      <th></th>\n",
       "      <th>price</th>\n",
       "      <th>postal_code</th>\n",
       "      <th>address</th>\n",
       "      <th>bed</th>\n",
       "      <th>full_bath</th>\n",
       "      <th>half_bath</th>\n",
       "      <th>property_area</th>\n",
       "      <th>property_type</th>\n",
       "      <th>latitude</th>\n",
       "      <th>longitude</th>\n",
       "      <th>year_built</th>\n",
       "      <th>years_old</th>\n",
       "      <th>distance_downtown</th>\n",
       "      <th>monthly_payments</th>\n",
       "      <th>condo</th>\n",
       "      <th>house</th>\n",
       "      <th>townhouse</th>\n",
       "    </tr>\n",
       "  </thead>\n",
       "  <tbody>\n",
       "    <tr>\n",
       "      <th>0</th>\n",
       "      <td>329900</td>\n",
       "      <td>T1Y2Z3</td>\n",
       "      <td>4312 49 ST NE</td>\n",
       "      <td>4.0</td>\n",
       "      <td>1.0</td>\n",
       "      <td>1.0</td>\n",
       "      <td>2300.0</td>\n",
       "      <td>house</td>\n",
       "      <td>51.090065</td>\n",
       "      <td>-113.962366</td>\n",
       "      <td>1977.0</td>\n",
       "      <td>43.0</td>\n",
       "      <td>9.274735</td>\n",
       "      <td>1426.53</td>\n",
       "      <td>0</td>\n",
       "      <td>1</td>\n",
       "      <td>0</td>\n",
       "    </tr>\n",
       "    <tr>\n",
       "      <th>1</th>\n",
       "      <td>425000</td>\n",
       "      <td>T3L2E7</td>\n",
       "      <td>108 TUSCANY VALLEY DR NW</td>\n",
       "      <td>4.0</td>\n",
       "      <td>2.0</td>\n",
       "      <td>1.0</td>\n",
       "      <td>1336.0</td>\n",
       "      <td>house</td>\n",
       "      <td>51.128175</td>\n",
       "      <td>-114.247503</td>\n",
       "      <td>1998.0</td>\n",
       "      <td>22.0</td>\n",
       "      <td>15.255297</td>\n",
       "      <td>1837.75</td>\n",
       "      <td>0</td>\n",
       "      <td>1</td>\n",
       "      <td>0</td>\n",
       "    </tr>\n",
       "    <tr>\n",
       "      <th>2</th>\n",
       "      <td>234900</td>\n",
       "      <td>T3R0V5</td>\n",
       "      <td>2107 - 450 SAGE VALLEY DR NW</td>\n",
       "      <td>2.0</td>\n",
       "      <td>2.0</td>\n",
       "      <td>0.0</td>\n",
       "      <td>835.0</td>\n",
       "      <td>condo</td>\n",
       "      <td>51.179434</td>\n",
       "      <td>-114.158282</td>\n",
       "      <td>2015.0</td>\n",
       "      <td>5.0</td>\n",
       "      <td>16.076061</td>\n",
       "      <td>1015.74</td>\n",
       "      <td>1</td>\n",
       "      <td>0</td>\n",
       "      <td>0</td>\n",
       "    </tr>\n",
       "    <tr>\n",
       "      <th>3</th>\n",
       "      <td>369000</td>\n",
       "      <td>T1Y3V2</td>\n",
       "      <td>6852 RUNDLEHORN DR NE</td>\n",
       "      <td>5.0</td>\n",
       "      <td>3.0</td>\n",
       "      <td>0.0</td>\n",
       "      <td>1136.0</td>\n",
       "      <td>house</td>\n",
       "      <td>51.079270</td>\n",
       "      <td>-113.940553</td>\n",
       "      <td>1978.0</td>\n",
       "      <td>42.0</td>\n",
       "      <td>10.076730</td>\n",
       "      <td>1595.60</td>\n",
       "      <td>0</td>\n",
       "      <td>1</td>\n",
       "      <td>0</td>\n",
       "    </tr>\n",
       "    <tr>\n",
       "      <th>4</th>\n",
       "      <td>424900</td>\n",
       "      <td>T2X1G2</td>\n",
       "      <td>27 MIDRIDGE CLOSE SE</td>\n",
       "      <td>3.0</td>\n",
       "      <td>2.0</td>\n",
       "      <td>0.0</td>\n",
       "      <td>1055.0</td>\n",
       "      <td>house</td>\n",
       "      <td>50.920030</td>\n",
       "      <td>-114.054980</td>\n",
       "      <td>1978.0</td>\n",
       "      <td>42.0</td>\n",
       "      <td>13.958058</td>\n",
       "      <td>1837.32</td>\n",
       "      <td>0</td>\n",
       "      <td>1</td>\n",
       "      <td>0</td>\n",
       "    </tr>\n",
       "  </tbody>\n",
       "</table>\n",
       "</div>"
      ],
      "text/plain": [
       "    price postal_code                       address  bed  full_bath  \\\n",
       "0  329900      T1Y2Z3                 4312 49 ST NE  4.0        1.0   \n",
       "1  425000      T3L2E7      108 TUSCANY VALLEY DR NW  4.0        2.0   \n",
       "2  234900      T3R0V5  2107 - 450 SAGE VALLEY DR NW  2.0        2.0   \n",
       "3  369000      T1Y3V2         6852 RUNDLEHORN DR NE  5.0        3.0   \n",
       "4  424900      T2X1G2          27 MIDRIDGE CLOSE SE  3.0        2.0   \n",
       "\n",
       "   half_bath  property_area property_type   latitude   longitude  year_built  \\\n",
       "0        1.0         2300.0         house  51.090065 -113.962366      1977.0   \n",
       "1        1.0         1336.0         house  51.128175 -114.247503      1998.0   \n",
       "2        0.0          835.0         condo  51.179434 -114.158282      2015.0   \n",
       "3        0.0         1136.0         house  51.079270 -113.940553      1978.0   \n",
       "4        0.0         1055.0         house  50.920030 -114.054980      1978.0   \n",
       "\n",
       "   years_old  distance_downtown  monthly_payments  condo  house  townhouse  \n",
       "0       43.0           9.274735           1426.53      0      1          0  \n",
       "1       22.0          15.255297           1837.75      0      1          0  \n",
       "2        5.0          16.076061           1015.74      1      0          0  \n",
       "3       42.0          10.076730           1595.60      0      1          0  \n",
       "4       42.0          13.958058           1837.32      0      1          0  "
      ]
     },
     "execution_count": 40,
     "metadata": {},
     "output_type": "execute_result"
    }
   ],
   "source": [
    "table_df = pd.concat([house_info, prop_area], axis=1)\n",
    "table_df.head()"
   ]
  },
  {
   "cell_type": "code",
   "execution_count": 43,
   "metadata": {},
   "outputs": [
    {
     "data": {
      "text/html": [
       "<div>\n",
       "<style scoped>\n",
       "    .dataframe tbody tr th:only-of-type {\n",
       "        vertical-align: middle;\n",
       "    }\n",
       "\n",
       "    .dataframe tbody tr th {\n",
       "        vertical-align: top;\n",
       "    }\n",
       "\n",
       "    .dataframe thead th {\n",
       "        text-align: right;\n",
       "    }\n",
       "</style>\n",
       "<table border=\"1\" class=\"dataframe\">\n",
       "  <thead>\n",
       "    <tr style=\"text-align: right;\">\n",
       "      <th></th>\n",
       "      <th>price</th>\n",
       "      <th>bed</th>\n",
       "      <th>full_bath</th>\n",
       "      <th>half_bath</th>\n",
       "      <th>property_area</th>\n",
       "      <th>condo</th>\n",
       "      <th>house</th>\n",
       "      <th>townhouse</th>\n",
       "      <th>years_old</th>\n",
       "      <th>distance_downtown</th>\n",
       "    </tr>\n",
       "  </thead>\n",
       "  <tbody>\n",
       "    <tr>\n",
       "      <th>0</th>\n",
       "      <td>329900</td>\n",
       "      <td>4.0</td>\n",
       "      <td>1.0</td>\n",
       "      <td>1.0</td>\n",
       "      <td>2300.0</td>\n",
       "      <td>0</td>\n",
       "      <td>1</td>\n",
       "      <td>0</td>\n",
       "      <td>43.0</td>\n",
       "      <td>9.274735</td>\n",
       "    </tr>\n",
       "    <tr>\n",
       "      <th>1</th>\n",
       "      <td>425000</td>\n",
       "      <td>4.0</td>\n",
       "      <td>2.0</td>\n",
       "      <td>1.0</td>\n",
       "      <td>1336.0</td>\n",
       "      <td>0</td>\n",
       "      <td>1</td>\n",
       "      <td>0</td>\n",
       "      <td>22.0</td>\n",
       "      <td>15.255297</td>\n",
       "    </tr>\n",
       "    <tr>\n",
       "      <th>2</th>\n",
       "      <td>234900</td>\n",
       "      <td>2.0</td>\n",
       "      <td>2.0</td>\n",
       "      <td>0.0</td>\n",
       "      <td>835.0</td>\n",
       "      <td>1</td>\n",
       "      <td>0</td>\n",
       "      <td>0</td>\n",
       "      <td>5.0</td>\n",
       "      <td>16.076061</td>\n",
       "    </tr>\n",
       "    <tr>\n",
       "      <th>3</th>\n",
       "      <td>369000</td>\n",
       "      <td>5.0</td>\n",
       "      <td>3.0</td>\n",
       "      <td>0.0</td>\n",
       "      <td>1136.0</td>\n",
       "      <td>0</td>\n",
       "      <td>1</td>\n",
       "      <td>0</td>\n",
       "      <td>42.0</td>\n",
       "      <td>10.076730</td>\n",
       "    </tr>\n",
       "    <tr>\n",
       "      <th>4</th>\n",
       "      <td>424900</td>\n",
       "      <td>3.0</td>\n",
       "      <td>2.0</td>\n",
       "      <td>0.0</td>\n",
       "      <td>1055.0</td>\n",
       "      <td>0</td>\n",
       "      <td>1</td>\n",
       "      <td>0</td>\n",
       "      <td>42.0</td>\n",
       "      <td>13.958058</td>\n",
       "    </tr>\n",
       "  </tbody>\n",
       "</table>\n",
       "</div>"
      ],
      "text/plain": [
       "    price  bed  full_bath  half_bath  property_area  condo  house  townhouse  \\\n",
       "0  329900  4.0        1.0        1.0         2300.0      0      1          0   \n",
       "1  425000  4.0        2.0        1.0         1336.0      0      1          0   \n",
       "2  234900  2.0        2.0        0.0          835.0      1      0          0   \n",
       "3  369000  5.0        3.0        0.0         1136.0      0      1          0   \n",
       "4  424900  3.0        2.0        0.0         1055.0      0      1          0   \n",
       "\n",
       "   years_old  distance_downtown  \n",
       "0       43.0           9.274735  \n",
       "1       22.0          15.255297  \n",
       "2        5.0          16.076061  \n",
       "3       42.0          10.076730  \n",
       "4       42.0          13.958058  "
      ]
     },
     "execution_count": 43,
     "metadata": {},
     "output_type": "execute_result"
    }
   ],
   "source": [
    "df = table_df[['price', 'bed', 'full_bath', 'half_bath', 'property_area', 'condo',\n",
    "                 'house', 'townhouse', 'years_old', 'distance_downtown']]\n",
    "df.head()"
   ]
  },
  {
   "cell_type": "markdown",
   "metadata": {},
   "source": [
    "# Train Data"
   ]
  },
  {
   "cell_type": "code",
   "execution_count": 45,
   "metadata": {},
   "outputs": [],
   "source": [
    "X = df.drop('price', axis=1)\n",
    "y = df['price']"
   ]
  },
  {
   "cell_type": "code",
   "execution_count": 50,
   "metadata": {},
   "outputs": [],
   "source": [
    "# Use train_test_split to create training and testing data\n",
    "from sklearn.model_selection import train_test_split\n",
    "\n",
    "X_train, X_test, y_train, y_test = train_test_split(X, y, random_state=42)"
   ]
  },
  {
   "cell_type": "code",
   "execution_count": 51,
   "metadata": {},
   "outputs": [],
   "source": [
    "# Create the model using LinearRegression\n",
    "\n",
    "from sklearn.linear_model import LinearRegression\n",
    "model = LinearRegression()"
   ]
  },
  {
   "cell_type": "code",
   "execution_count": 52,
   "metadata": {},
   "outputs": [
    {
     "name": "stdout",
     "output_type": "stream",
     "text": [
      "Training Score: 0.6908166391632178\n"
     ]
    }
   ],
   "source": [
    "# Fit the model to the training data and calculate the score for the training data\n",
    "\n",
    "model.fit(X_train, y_train)\n",
    "training_score = model.score(X_train, y_train)\n",
    "\n",
    "print(f\"Training Score: {training_score}\")"
   ]
  },
  {
   "cell_type": "markdown",
   "metadata": {},
   "source": [
    "# Test Data"
   ]
  },
  {
   "cell_type": "code",
   "execution_count": 53,
   "metadata": {},
   "outputs": [
    {
     "name": "stdout",
     "output_type": "stream",
     "text": [
      "Testing Score: 0.8047344823958917\n"
     ]
    }
   ],
   "source": [
    "# Calculate the score for the testing data\n",
    "\n",
    "testing_score = model.score(X_test, y_test)\n",
    "print(f\"Testing Score: {testing_score}\")"
   ]
  },
  {
   "cell_type": "code",
   "execution_count": 55,
   "metadata": {},
   "outputs": [
    {
     "data": {
      "text/plain": [
       "LinearRegression()"
      ]
     },
     "execution_count": 55,
     "metadata": {},
     "output_type": "execute_result"
    }
   ],
   "source": [
    "from sklearn import linear_model\n",
    "regr = linear_model.LinearRegression()\n",
    "regr.fit(X, y)\n",
    "\n",
    "#predict the CO2 emission of a car where the weight is 2300kg, and the volume is 1300cm3:\n",
    "#predictedCO2 = regr.predict([[2300, 1300]])\n",
    "\n",
    "#print(predictedCO2)"
   ]
  },
  {
   "cell_type": "code",
   "execution_count": 57,
   "metadata": {},
   "outputs": [
    {
     "data": {
      "text/plain": [
       "array([-44843.84074048, 130082.88095791, -94980.17068681,    446.94079893,\n",
       "        -7165.64862124,  23112.9263764 , -15947.27775516,    383.64304873,\n",
       "       -16590.46192107])"
      ]
     },
     "execution_count": 57,
     "metadata": {},
     "output_type": "execute_result"
    }
   ],
   "source": [
    "regr.coef_"
   ]
  },
  {
   "cell_type": "code",
   "execution_count": 59,
   "metadata": {},
   "outputs": [
    {
     "data": {
      "text/plain": [
       "-55397.26121964445"
      ]
     },
     "execution_count": 59,
     "metadata": {},
     "output_type": "execute_result"
    }
   ],
   "source": [
    "regr.intercept_"
   ]
  },
  {
   "cell_type": "code",
   "execution_count": 63,
   "metadata": {},
   "outputs": [
    {
     "data": {
      "text/plain": [
       "array([522178.88589026])"
      ]
     },
     "execution_count": 63,
     "metadata": {},
     "output_type": "execute_result"
    }
   ],
   "source": [
    "# Predict the price of a townhouse with the following feature\n",
    "\n",
    "# bed = 3\n",
    "# full_bath = 2\n",
    "# half_bath = 0\n",
    "# property_area = 1500\n",
    "# years_old = 15\n",
    "# distance_downtown = 12.554\n",
    "\n",
    "regr.predict([[3, 2, 0, 1500, 0, 0, 1, 15, 12.554]])"
   ]
  },
  {
   "cell_type": "code",
   "execution_count": 73,
   "metadata": {},
   "outputs": [
    {
     "data": {
      "text/plain": [
       "array([490871.6268467])"
      ]
     },
     "execution_count": 73,
     "metadata": {},
     "output_type": "execute_result"
    }
   ],
   "source": [
    "regr.predict([[3, 3, 0, 1200, 0, 0, 1, 15, 14.2]])"
   ]
  },
  {
   "cell_type": "code",
   "execution_count": 64,
   "metadata": {},
   "outputs": [
    {
     "data": {
      "text/plain": [
       "Text(0.5, 1.0, 'Residual Plot')"
      ]
     },
     "execution_count": 64,
     "metadata": {},
     "output_type": "execute_result"
    },
    {
     "data": {
      "image/png": "[encoded data removed]",
      "text/plain": [
       "<Figure size 432x288 with 1 Axes>"
      ]
     },
     "metadata": {
      "needs_background": "light"
     },
     "output_type": "display_data"
    }
   ],
   "source": [
    "# Plot the Residuals for the Training and Testing data\n",
    "\n",
    "plt.scatter(model.predict(X_train), model.predict(X_train) - y_train, c=\"blue\", label=\"Training Data\")\n",
    "plt.scatter(model.predict(X_test), model.predict(X_test) - y_test, c=\"orange\", label=\"Testing Data\")\n",
    "plt.legend()\n",
    "plt.hlines(y=0, xmin=y.min(), xmax=y.max())\n",
    "plt.title(\"Residual Plot\")"
   ]
  },
  {
   "cell_type": "code",
   "execution_count": null,
   "metadata": {},
   "outputs": [],
   "source": []
  }
 ],
 "metadata": {
  "kernelspec": {
   "display_name": "Python 3",
   "language": "python",
   "name": "python3"
  },
  "language_info": {
   "codemirror_mode": {
    "name": "ipython",
    "version": 3
   },
   "file_extension": ".py",
   "mimetype": "text/x-python",
   "name": "python",
   "nbconvert_exporter": "python",
   "pygments_lexer": "ipython3",
   "version": "3.7.7"
  }
 },
 "nbformat": 4,
 "nbformat_minor": 4
}
